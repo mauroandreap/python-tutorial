{
 "cells": [
  {
   "cell_type": "markdown",
   "id": "0",
   "metadata": {},
   "source": [
    "# Language Modeling With PyTorch\n",
    "\n",
    "## Part 1"
   ]
  },
  {
   "cell_type": "markdown",
   "id": "1",
   "metadata": {},
   "source": [
    "## Table of Contents\n",
    "- [Introduction](#Introduction)\n",
    "- [References](#References)\n",
    "- [Inspecting the data](#Inspecting-the-data)\n",
    "- [Bigram language model](#Bigram-language-model)\n",
    "  - [Evaluating the quality of the model](#Evaluating-the-quality-of-the-model)\n",
    "- [A neural network approach](#A-neural-network-approach)\n",
    "  - [The training set](#The-training-set)\n",
    "  - [Feeding the network](#Feeding-the-network)\n",
    "  - [Regaining a normal distribution](#Regaining-a-normal-distribution)\n",
    "  - [Recap: How the Neural Network Processes Input Characters](#Recap:-How-the-Neural-Network-Processes-Input-Characters)\n",
    "  - [Optimization](#Optimization)\n",
    "  - [Putting it all together](#Putting-it-all-together)\n",
    "    - [Preparing data](#Preparing-data)\n",
    "    - [Initializing the neural network](#Initializing-the-neural-network)\n",
    "    - [Training the neural network](#Training-the-neural-network)\n",
    "    - [Comparison with a Bigram frequency model](#Comparison-with-a-Bigram-frequency-model)\n",
    "    - [Smoothing applied to a neural network](#Smoothing-applied-to-a-neural-network)\n",
    "    - [Sampling from our trained model](#Sampling-from-our-trained-model)\n",
    "  - [Conclusion](#Conclusion)\n",
    "- [Exercises](#Exercises)\n",
    "  - [1. Build a Trigram model](#1.-Build-a-Trigram-model)\n",
    "  - [2. Split the dataset](#2.-Split-the-dataset)\n",
    "    - [Bigram model baseline](#Bigram-model-baseline)\n",
    "    - [Compare the Bigram and Trigram model](#Compare-the-Bigram-and-Trigram-model)\n",
    "  - [3. Change the loss function](#3.-Change-the-loss-function)"
   ]
  },
  {
   "cell_type": "markdown",
   "id": "2",
   "metadata": {},
   "source": [
    "## Introduction\n",
    "\n",
    "The purpose of this multi-part notebook is to give a gentle introduction to the PyTorch library, with a focus on language modeling.\n",
    "At high-level, we will build a progressively more complex **character-level language model** that can generate more text similar to the training data.\n",
    "\n",
    "The final result is not meant to be a \"production-ready\" language model, but rather a simple yet effective example of how to use PyTorch for language modeling.\n",
    "Along the way, we will learn the fundamental building blocks that lay the groundwork for more complex models, including the base models that power the state-of-the-art LLMs and derived products, like our friendly and always helpful assistant ChatGPT.\n",
    "\n",
    "The final implementation will allow you to experiment with different models, starting from the most simple and basic one (a **bigram** model, where one character predicts the next one with a lookup table of counts) to a more complex **RNN** and finally a **Transformer** model.\n"
   ]
  },
  {
   "cell_type": "markdown",
   "id": "3",
   "metadata": {},
   "source": [
    "## References\n",
    "\n",
    "Some literature references about the concepts touched by one or more parts of this tutorial: \n",
    "\n",
    "- Multi-Layer Perceptron (MLP): [Bengio et al. 2003](https://www.jmlr.org/papers/volume3/bengio03a/bengio03a.pdf)\n",
    "- Convolutional Neural Network (CNN): [DeepMind WaveNet 2016](https://arxiv.org/abs/1609.03499)\n",
    "- Recurrent Neural Network (RNN): [Mikolov et al. 2010](https://www.fit.vutbr.cz/research/groups/speech/publi/2010/mikolov_interspeech2010_IS100722.pdf)\n",
    "- Long Short-Term Memory (LSTM): [Graves et al. 2014](https://arxiv.org/abs/1308.0850)\n",
    "- Gated Recurrent Unit (GRU): [Kyunghyun Cho et al. 2014](https://arxiv.org/abs/1409.1259)\n",
    "- Transformer: [Vaswani et al. 2017](https://arxiv.org/abs/1706.03762)\n",
    "\n",
    "A few more related resource (hands-on, tutorial, articles, videos, etc.):\n",
    "- Book \"[Build a Large Language Model (From Scratch)](http://mng.bz/orYv)\" by Sebastian Raschka (the companion [GitHub repository](https://github.com/rasbt/LLMs-from-scratch))\n",
    "- [Andrej Karpathy's \"Neural Net: From Zero to Hero\"](https://www.youtube.com/playlist?list=PLAqhIrjkxbuWI23v9cThsA9GvCAUhRvKZ) (*This was the **main** inspiration for this and the subsequent notebooks*)\n",
    "- A [tutorial](https://docs.fast.ai/tutorial.text.html) on *transfer learning* by fastai\n",
    "- [Hugging Face's FineWeb dataset](https://huggingface.co/spaces/HuggingFaceFW/blogpost-fineweb-v1)\n",
    "- [Transformer LLM 3D visualizer](https://bbycroft.net/llm)"
   ]
  },
  {
   "cell_type": "markdown",
   "id": "4",
   "metadata": {},
   "source": [
    "## Inspecting the data"
   ]
  },
  {
   "cell_type": "code",
   "execution_count": 7,
   "id": "5",
   "metadata": {},
   "outputs": [],
   "source": [
    "import pathlib as pl"
   ]
  },
  {
   "cell_type": "markdown",
   "id": "6",
   "metadata": {},
   "source": [
    "Our initial dataset is a simple list of strings that represent common names:"
   ]
  },
  {
   "cell_type": "code",
   "execution_count": 8,
   "id": "7",
   "metadata": {},
   "outputs": [
    {
     "data": {
      "text/plain": [
       "['emma',\n",
       " 'olivia',\n",
       " 'ava',\n",
       " 'isabella',\n",
       " 'sophia',\n",
       " 'charlotte',\n",
       " 'mia',\n",
       " 'amelia',\n",
       " 'harper',\n",
       " 'evelyn']"
      ]
     },
     "execution_count": 8,
     "metadata": {},
     "output_type": "execute_result"
    }
   ],
   "source": [
    "words = pl.Path(\"data/lm/names.txt\").read_text().splitlines()\n",
    "words[:10]"
   ]
  },
  {
   "cell_type": "code",
   "execution_count": 9,
   "id": "8",
   "metadata": {},
   "outputs": [
    {
     "data": {
      "text/plain": [
       "(32033, 2, 15)"
      ]
     },
     "execution_count": 9,
     "metadata": {},
     "output_type": "execute_result"
    }
   ],
   "source": [
    "len(words), min(len(w) for w in words), max(len(w) for w in words)"
   ]
  },
  {
   "cell_type": "markdown",
   "id": "9",
   "metadata": {},
   "source": [
    "The information we can extract from a single name, e.g. `isabella`, is multiple:\n",
    "\n",
    "- We know that the character `i` is followed by `s`.\n",
    "- We know that, after the characters `isabell`, the following character is `a`.\n",
    "- We know that, after the characters `isabella`, the following character is `\\n` (end of string).\n",
    "\n",
    "The idea is that a single word packs multiple pieces of information regarding the statistical structure of the language it belongs to.\n",
    "And since we have about 32k words, there's quite a lot of information we can use to train even a simple language model."
   ]
  },
  {
   "cell_type": "markdown",
   "id": "10",
   "metadata": {},
   "source": [
    "## Bigram language model"
   ]
  },
  {
   "cell_type": "markdown",
   "id": "11",
   "metadata": {},
   "source": [
    "A bigram language model is the simplest possible language model.\n",
    "Given a sequence of characters (each character is usually referred to as a **token**), the bigram language model assigns a probability to each possible next token, given the previous token.\n",
    "It's a predictor for each pair of tokens."
   ]
  },
  {
   "cell_type": "code",
   "execution_count": 10,
   "id": "12",
   "metadata": {},
   "outputs": [
    {
     "name": "stdout",
     "output_type": "stream",
     "text": [
      "e m\n",
      "m m\n",
      "m a\n",
      "o l\n",
      "l i\n",
      "i v\n",
      "v i\n",
      "i a\n",
      "a v\n",
      "v a\n"
     ]
    }
   ],
   "source": [
    "for w in words[:3]:\n",
    "    for ch1, ch2 in zip(w, w[1:]):\n",
    "        print(ch1, ch2)"
   ]
  },
  {
   "cell_type": "markdown",
   "id": "13",
   "metadata": {},
   "source": [
    "The most basic modeling of the statistical patterns embedded in our input data is predicting the next token **by frequency**.\n",
    "We can build a simple dictionary that counts how many times a bigram (i.e., sequence of two tokens) appear in our dataset.\n",
    "\n",
    "We also need to add the *special* information about the start and end of the sequence.\n",
    "We can \"encode\" that information with two **special tokens**: `<S>` (start) and `<E>` (end)"
   ]
  },
  {
   "cell_type": "code",
   "execution_count": 13,
   "id": "14",
   "metadata": {},
   "outputs": [
    {
     "name": "stdout",
     "output_type": "stream",
     "text": [
      "{('<S>', 'e'): 1531, ('e', 'm'): 769, ('m', 'm'): 168, ('m', 'a'): 2590, ('a', '<E>'): 6640, ('<S>', 'o'): 394, ('o', 'l'): 619, ('l', 'i'): 2480, ('i', 'v'): 269, ('v', 'i'): 911, ('i', 'a'): 2445, ('<S>', 'a'): 4410, ('a', 'v'): 834, ('v', 'a'): 642, ('<S>', 'i'): 591, ('i', 's'): 1316, ('s', 'a'): 1201, ('a', 'b'): 541, ('b', 'e'): 655, ('e', 'l'): 3248, ('l', 'l'): 1345, ('l', 'a'): 2623, ('<S>', 's'): 2055, ('s', 'o'): 531, ('o', 'p'): 95, ('p', 'h'): 204, ('h', 'i'): 729, ('<S>', 'c'): 1542, ('c', 'h'): 664, ('h', 'a'): 2244, ('a', 'r'): 3264, ('r', 'l'): 413, ('l', 'o'): 692, ('o', 't'): 118, ('t', 't'): 374, ('t', 'e'): 716, ('e', '<E>'): 3983, ('<S>', 'm'): 2538, ('m', 'i'): 1256, ('a', 'm'): 1634, ('m', 'e'): 818, ('<S>', 'h'): 874, ('r', 'p'): 14, ('p', 'e'): 197, ('e', 'r'): 1958, ('r', '<E>'): 1377, ('e', 'v'): 463, ('v', 'e'): 568, ('l', 'y'): 1588, ('y', 'n'): 1826, ('n', '<E>'): 6763, ('b', 'i'): 217, ('i', 'g'): 428, ('g', 'a'): 330, ('a', 'i'): 1650, ('i', 'l'): 1345, ('l', '<E>'): 1314, ('y', '<E>'): 2007, ('i', 'z'): 277, ('z', 'a'): 860, ('e', 't'): 580, ('t', 'h'): 647, ('h', '<E>'): 2409, ('r', 'y'): 773, ('o', 'f'): 34, ('f', 'i'): 160, ('c', 'a'): 815, ('r', 'i'): 3033, ('s', 'c'): 60, ('l', 'e'): 2921, ('t', '<E>'): 483, ('<S>', 'v'): 376, ('i', 'c'): 509, ('c', 't'): 35, ('t', 'o'): 667, ('o', 'r'): 1059, ('a', 'd'): 1042, ('d', 'i'): 674, ('o', 'n'): 2411, ('<S>', 'l'): 1572, ('l', 'u'): 324, ('u', 'n'): 275, ('n', 'a'): 2977, ('<S>', 'g'): 669, ('g', 'r'): 201, ('r', 'a'): 2356, ('a', 'c'): 470, ('c', 'e'): 551, ('h', 'l'): 185, ('o', 'e'): 132, ('<S>', 'p'): 515, ('e', 'n'): 2675, ('n', 'e'): 1359, ('a', 'y'): 2050, ('y', 'l'): 1104, ('<S>', 'r'): 1639, ('e', 'y'): 1070, ('<S>', 'z'): 929, ('z', 'o'): 110, ('<S>', 'n'): 1146, ('n', 'o'): 496, ('e', 'a'): 679, ('a', 'n'): 5438, ('n', 'n'): 1906, ('a', 'h'): 2332, ('d', 'd'): 149, ('a', 'u'): 381, ('u', 'b'): 103, ('b', 'r'): 842, ('r', 'e'): 1697, ('i', 'e'): 1653, ('s', 't'): 765, ('a', 't'): 687, ('t', 'a'): 1027, ('a', 'l'): 2528, ('a', 'z'): 435, ('z', 'e'): 373, ('i', 'o'): 588, ('u', 'r'): 414, ('r', 'o'): 869, ('u', 'd'): 136, ('d', 'r'): 424, ('<S>', 'b'): 1306, ('o', 'o'): 115, ('o', 'k'): 68, ('k', 'l'): 139, ('c', 'l'): 116, ('i', 'r'): 849, ('s', 'k'): 82, ('k', 'y'): 379, ('u', 'c'): 103, ('c', 'y'): 104, ('p', 'a'): 209, ('s', 'l'): 279, ('i', 'n'): 2126, ('o', 'v'): 176, ('g', 'e'): 334, ('e', 's'): 861, ('s', 'i'): 684, ('s', '<E>'): 1169, ('<S>', 'k'): 2963, ('k', 'e'): 895, ('e', 'd'): 384, ('d', 'y'): 317, ('n', 't'): 443, ('y', 'a'): 2143, ('<S>', 'w'): 307, ('w', 'i'): 148, ('o', 'w'): 114, ('w', '<E>'): 51, ('k', 'i'): 509, ('n', 's'): 278, ('a', 'o'): 63, ('o', 'm'): 261, ('i', '<E>'): 2489, ('a', 'a'): 556, ('i', 'y'): 779, ('d', 'e'): 1283, ('c', 'o'): 380, ('r', 'u'): 252, ('b', 'y'): 83, ('s', 'e'): 884, ('n', 'i'): 1725, ('i', 't'): 541, ('t', 'y'): 341, ('u', 't'): 82, ('t', 'u'): 78, ('u', 'm'): 154, ('m', 'n'): 20, ('g', 'i'): 190, ('t', 'i'): 532, ('<S>', 'q'): 92, ('q', 'u'): 206, ('u', 'i'): 121, ('a', 'e'): 692, ('e', 'h'): 152, ('v', 'y'): 121, ('p', 'i'): 61, ('i', 'p'): 53, ('y', 'd'): 272, ('e', 'x'): 132, ('x', 'a'): 103, ('<S>', 'j'): 2422, ('j', 'o'): 479, ('o', 's'): 504, ('e', 'p'): 83, ('j', 'u'): 202, ('u', 'l'): 301, ('<S>', 'd'): 1690, ('k', 'a'): 1731, ('e', 'e'): 1271, ('y', 't'): 104, ('d', 'l'): 60, ('c', 'k'): 316, ('n', 'z'): 145, ('z', 'i'): 364, ('a', 'g'): 168, ('d', 'a'): 1303, ('j', 'a'): 1473, ('h', 'e'): 674, ('<S>', 'x'): 134, ('x', 'i'): 102, ('i', 'm'): 427, ('e', 'i'): 818, ('<S>', 't'): 1308, ('<S>', 'f'): 417, ('f', 'a'): 242, ('n', 'd'): 704, ('r', 'g'): 76, ('a', 's'): 1118, ('s', 'h'): 1285, ('b', 'a'): 321, ('k', 'h'): 307, ('s', 'm'): 90, ('o', 'd'): 190, ('r', 's'): 190, ('g', 'h'): 360, ('s', 'y'): 215, ('y', 's'): 401, ('s', 's'): 461, ('e', 'c'): 153, ('c', 'i'): 271, ('m', 'o'): 452, ('r', 'k'): 90, ('n', 'l'): 195, ('d', 'n'): 31, ('r', 'd'): 187, ('o', 'i'): 69, ('t', 'r'): 352, ('m', 'b'): 112, ('r', 'm'): 162, ('n', 'y'): 465, ('d', 'o'): 378, ('o', 'a'): 149, ('o', 'c'): 114, ('m', 'y'): 287, ('s', 'u'): 185, ('m', 'c'): 51, ('p', 'r'): 151, ('o', 'u'): 275, ('r', 'n'): 140, ('w', 'a'): 280, ('e', 'b'): 121, ('c', 'c'): 42, ('a', 'w'): 161, ('w', 'y'): 73, ('y', 'e'): 301, ('e', 'o'): 269, ('a', 'k'): 568, ('n', 'g'): 273, ('k', 'o'): 344, ('b', 'l'): 103, ('h', 'o'): 287, ('e', 'g'): 125, ('f', 'r'): 114, ('s', 'p'): 51, ('l', 's'): 94, ('y', 'z'): 78, ('g', 'g'): 25, ('z', 'u'): 73, ('i', 'd'): 440, ('m', '<E>'): 516, ('o', 'g'): 44, ('j', 'e'): 440, ('g', 'n'): 27, ('y', 'r'): 291, ('c', '<E>'): 97, ('c', 'q'): 11, ('u', 'e'): 169, ('i', 'f'): 101, ('f', 'e'): 123, ('i', 'x'): 89, ('x', '<E>'): 164, ('o', 'y'): 103, ('g', 'o'): 83, ('g', 't'): 31, ('l', 't'): 77, ('g', 'w'): 26, ('w', 'e'): 149, ('l', 'd'): 138, ('a', 'p'): 82, ('h', 'n'): 138, ('t', 'l'): 134, ('m', 'r'): 97, ('n', 'c'): 213, ('l', 'b'): 52, ('i', 'k'): 445, ('<S>', 'y'): 535, ('t', 'z'): 105, ('h', 'r'): 204, ('j', 'i'): 119, ('h', 't'): 71, ('r', 'r'): 425, ('z', 'l'): 123, ('w', 'r'): 22, ('b', 'b'): 38, ('r', 't'): 208, ('l', 'v'): 72, ('e', 'j'): 55, ('o', 'h'): 171, ('u', 's'): 474, ('i', 'b'): 110, ('g', 'l'): 32, ('h', 'y'): 213, ('p', 'o'): 59, ('p', 'p'): 39, ('p', 'y'): 12, ('n', 'r'): 44, ('z', 'm'): 35, ('v', 'o'): 153, ('l', 'm'): 60, ('o', 'x'): 45, ('d', '<E>'): 516, ('i', 'u'): 109, ('v', '<E>'): 88, ('f', 'f'): 44, ('b', 'o'): 105, ('e', 'k'): 178, ('c', 'r'): 76, ('d', 'g'): 25, ('r', 'c'): 99, ('r', 'h'): 121, ('n', 'k'): 58, ('h', 'u'): 166, ('d', 's'): 29, ('a', 'x'): 182, ('y', 'c'): 115, ('e', 'w'): 50, ('v', 'k'): 3, ('z', 'h'): 43, ('w', 'h'): 23, ('t', 'n'): 22, ('x', 'l'): 39, ('g', 'u'): 85, ('u', 'a'): 163, ('u', 'p'): 16, ('u', 'g'): 47, ('d', 'u'): 92, ('l', 'c'): 25, ('r', 'b'): 41, ('a', 'q'): 60, ('b', '<E>'): 114, ('g', 'y'): 31, ('y', 'p'): 15, ('p', 't'): 17, ('e', 'z'): 181, ('z', 'r'): 32, ('f', 'l'): 20, ('o', '<E>'): 855, ('o', 'b'): 140, ('u', 'z'): 45, ('z', '<E>'): 160, ('i', 'q'): 52, ('y', 'v'): 106, ('n', 'v'): 55, ('d', 'h'): 118, ('g', 'd'): 19, ('t', 's'): 35, ('n', 'h'): 26, ('y', 'j'): 23, ('k', 'r'): 109, ('z', 'b'): 4, ('g', '<E>'): 108, ('a', 'j'): 175, ('r', 'j'): 25, ('m', 'p'): 38, ('p', 'b'): 2, ('y', 'o'): 271, ('z', 'y'): 147, ('p', 'l'): 16, ('l', 'k'): 24, ('i', 'j'): 76, ('x', 'e'): 36, ('y', 'u'): 141, ('l', 'n'): 14, ('u', 'x'): 34, ('i', 'h'): 95, ('w', 's'): 20, ('k', 's'): 95, ('m', 'u'): 139, ('y', 'k'): 86, ('e', 'f'): 82, ('k', '<E>'): 363, ('y', 'm'): 148, ('z', 'z'): 45, ('m', 'd'): 24, ('s', 'r'): 55, ('e', 'u'): 69, ('l', 'h'): 19, ('a', 'f'): 134, ('r', 'w'): 21, ('n', 'u'): 96, ('v', 'r'): 48, ('m', 's'): 35, ('<S>', 'u'): 78, ('f', 's'): 6, ('y', 'b'): 27, ('x', 'o'): 41, ('g', 's'): 30, ('x', 'y'): 30, ('w', 'n'): 58, ('j', 'h'): 45, ('f', 'n'): 4, ('n', 'j'): 44, ('r', 'v'): 80, ('n', 'm'): 19, ('t', 'c'): 17, ('s', 'w'): 24, ('k', 't'): 17, ('f', 't'): 18, ('x', 't'): 70, ('u', 'v'): 37, ('k', 'k'): 20, ('s', 'n'): 24, ('u', '<E>'): 155, ('j', 'r'): 11, ('y', 'x'): 28, ('h', 'm'): 117, ('e', 'q'): 14, ('u', 'o'): 10, ('f', '<E>'): 80, ('h', 'z'): 20, ('h', 'k'): 29, ('y', 'g'): 30, ('q', 'r'): 1, ('v', 'n'): 8, ('s', 'd'): 9, ('y', 'i'): 192, ('n', 'w'): 11, ('d', 'v'): 17, ('h', 'v'): 39, ('x', 'w'): 3, ('o', 'z'): 54, ('k', 'u'): 50, ('u', 'h'): 58, ('k', 'n'): 26, ('s', 'b'): 21, ('i', 'i'): 82, ('y', 'y'): 23, ('r', 'z'): 23, ('l', 'g'): 6, ('l', 'p'): 15, ('p', '<E>'): 33, ('b', 'u'): 45, ('f', 'u'): 10, ('b', 'h'): 41, ('f', 'y'): 14, ('u', 'w'): 86, ('x', 'u'): 5, ('q', '<E>'): 28, ('l', 'r'): 18, ('m', 'h'): 5, ('l', 'w'): 16, ('j', '<E>'): 71, ('s', 'v'): 14, ('m', 'l'): 5, ('n', 'f'): 11, ('u', 'j'): 14, ('f', 'o'): 60, ('j', 'l'): 9, ('t', 'g'): 2, ('j', 'm'): 5, ('v', 'v'): 7, ('p', 's'): 16, ('t', 'w'): 11, ('x', 'c'): 4, ('u', 'k'): 93, ('v', 'l'): 14, ('h', 'd'): 24, ('l', 'z'): 10, ('k', 'w'): 34, ('n', 'b'): 8, ('q', 's'): 2, ('i', 'w'): 8, ('c', 's'): 5, ('h', 's'): 31, ('m', 't'): 4, ('h', 'w'): 10, ('x', 'x'): 38, ('t', 'x'): 2, ('d', 'z'): 1, ('x', 'z'): 19, ('t', 'm'): 4, ('t', 'j'): 3, ('u', 'q'): 10, ('q', 'a'): 13, ('f', 'k'): 2, ('z', 'n'): 4, ('l', 'j'): 6, ('j', 'w'): 6, ('v', 'u'): 7, ('c', 'j'): 3, ('h', 'b'): 8, ('z', 't'): 4, ('p', 'u'): 4, ('m', 'z'): 11, ('x', 's'): 31, ('b', 't'): 2, ('u', 'y'): 13, ('d', 'j'): 9, ('j', 's'): 7, ('w', 'u'): 25, ('o', 'j'): 16, ('b', 's'): 8, ('d', 'w'): 23, ('w', 'o'): 36, ('j', 'n'): 2, ('w', 't'): 8, ('l', 'f'): 22, ('d', 'm'): 30, ('p', 'j'): 1, ('j', 'y'): 10, ('y', 'f'): 12, ('q', 'i'): 13, ('j', 'v'): 5, ('q', 'l'): 1, ('s', 'z'): 10, ('k', 'm'): 9, ('w', 'l'): 13, ('p', 'f'): 1, ('q', 'w'): 3, ('n', 'x'): 6, ('k', 'c'): 2, ('t', 'v'): 15, ('c', 'u'): 35, ('z', 'k'): 2, ('c', 'z'): 4, ('y', 'q'): 6, ('y', 'h'): 22, ('r', 'f'): 9, ('s', 'j'): 2, ('h', 'j'): 9, ('g', 'b'): 3, ('u', 'f'): 19, ('s', 'f'): 2, ('q', 'e'): 1, ('b', 'c'): 1, ('c', 'd'): 1, ('z', 'j'): 2, ('n', 'q'): 2, ('m', 'f'): 1, ('p', 'n'): 1, ('f', 'z'): 2, ('b', 'n'): 4, ('w', 'd'): 8, ('w', 'b'): 1, ('b', 'd'): 65, ('z', 's'): 4, ('p', 'c'): 1, ('h', 'g'): 2, ('m', 'j'): 7, ('w', 'w'): 2, ('k', 'j'): 2, ('h', 'p'): 1, ('j', 'k'): 2, ('o', 'q'): 3, ('f', 'w'): 4, ('f', 'h'): 1, ('w', 'm'): 2, ('b', 'j'): 1, ('r', 'q'): 16, ('z', 'c'): 2, ('z', 'v'): 2, ('f', 'g'): 1, ('n', 'p'): 5, ('z', 'g'): 1, ('d', 't'): 4, ('w', 'f'): 2, ('d', 'f'): 5, ('w', 'k'): 6, ('q', 'm'): 2, ('k', 'z'): 2, ('j', 'j'): 2, ('c', 'p'): 1, ('p', 'k'): 1, ('p', 'm'): 1, ('j', 'd'): 4, ('r', 'x'): 3, ('x', 'n'): 1, ('d', 'c'): 3, ('g', 'j'): 3, ('x', 'f'): 3, ('j', 'c'): 4, ('s', 'q'): 1, ('k', 'f'): 1, ('z', 'p'): 2, ('j', 't'): 2, ('k', 'b'): 2, ('m', 'k'): 1, ('m', 'w'): 2, ('x', 'h'): 1, ('h', 'f'): 2, ('x', 'd'): 5, ('y', 'w'): 4, ('z', 'w'): 3, ('d', 'k'): 3, ('c', 'g'): 2, ('u', 'u'): 3, ('t', 'f'): 2, ('g', 'm'): 6, ('m', 'v'): 3, ('c', 'x'): 3, ('h', 'c'): 2, ('g', 'f'): 1, ('q', 'o'): 2, ('l', 'q'): 3, ('v', 'b'): 1, ('j', 'p'): 1, ('k', 'd'): 2, ('g', 'z'): 1, ('v', 'd'): 1, ('d', 'b'): 1, ('v', 'h'): 1, ('k', 'v'): 2, ('h', 'h'): 1, ('s', 'g'): 2, ('g', 'v'): 1, ('d', 'q'): 1, ('x', 'b'): 1, ('w', 'z'): 1, ('h', 'q'): 1, ('j', 'b'): 1, ('z', 'd'): 2, ('x', 'm'): 1, ('w', 'g'): 1, ('t', 'b'): 1, ('z', 'x'): 1}\n"
     ]
    }
   ],
   "source": [
    "from collections import defaultdict\n",
    "\n",
    "bigrams = defaultdict(int)\n",
    "\n",
    "for w in words:\n",
    "    chars = [\"<S>\"] + list(w) + [\"<E>\"]\n",
    "    for ch1, ch2 in zip(chars, chars[1:]):\n",
    "        bigrams[(ch1, ch2)] += 1\n",
    "\n",
    "print(dict(bigrams))"
   ]
  },
  {
   "cell_type": "markdown",
   "id": "15",
   "metadata": {},
   "source": [
    "What does an entry of the bigram dictionary look like?\n",
    "It's something like `('a', '<E>'): 6640`, which means: the bigram `('a', '<E>')` occurred 6640 times.\n",
    "That is: the letter `a` is quite likely to appear at the end of a name.\n",
    "\n",
    "We want to sort the bigrams by their count, from the most frequent to the least frequent.\n",
    "Let's see the first 10 most frequent bigrams:"
   ]
  },
  {
   "cell_type": "code",
   "execution_count": 182,
   "id": "16",
   "metadata": {},
   "outputs": [
    {
     "data": {
      "text/plain": [
       "[(('n', '<E>'), 6763),\n",
       " (('a', '<E>'), 6640),\n",
       " (('a', 'n'), 5438),\n",
       " (('<S>', 'a'), 4410),\n",
       " (('e', '<E>'), 3983),\n",
       " (('a', 'r'), 3264),\n",
       " (('e', 'l'), 3248),\n",
       " (('r', 'i'), 3033),\n",
       " (('n', 'a'), 2977),\n",
       " (('<S>', 'k'), 2963),\n",
       " (('l', 'e'), 2921),\n",
       " (('e', 'n'), 2675),\n",
       " (('l', 'a'), 2623),\n",
       " (('m', 'a'), 2590),\n",
       " (('<S>', 'm'), 2538),\n",
       " (('a', 'l'), 2528),\n",
       " (('i', '<E>'), 2489),\n",
       " (('l', 'i'), 2480),\n",
       " (('i', 'a'), 2445),\n",
       " (('<S>', 'j'), 2422)]"
      ]
     },
     "execution_count": 182,
     "metadata": {},
     "output_type": "execute_result"
    }
   ],
   "source": [
    "sorted(bigrams.items(), key=lambda x: x[1], reverse=True)[:20]"
   ]
  },
  {
   "cell_type": "markdown",
   "id": "17",
   "metadata": {},
   "source": [
    "A much better way to store this information in a 2D array, where the rows are going to be the 1st character and the columns are going to be the 2nd character.\n",
    "The entry at row `a` and column `b` is going to be the count of the bigram `ab`.\n",
    "\n",
    "Since we are dealing with 26 characters, plus `<S>` and `<E>`, we need a total of 28x28 = 784 entries.\n",
    "Bracketed tokens are customary in NLP to represent special tokens, but here we are only interested in knowing when a sentence starts or ends.\n",
    "\n",
    "But there's also a problem with keeping two special tokens for the start and end of a sentence: we can't have `('<S>', '<S>')` or `('<E>', '<E>')`, or other combinations like `('a', '<S>')` or `('<E>', 'b')`.\n",
    "These would be invalid bigrams.\n",
    "To solve this, we can replace `<S>` with `.` and `<E>` with `.` and have a total of 27x27 = 729 entries."
   ]
  },
  {
   "cell_type": "code",
   "execution_count": 43,
   "id": "18",
   "metadata": {},
   "outputs": [],
   "source": [
    "import torch\n",
    "\n",
    "N = torch.zeros((27, 27), dtype=torch.int32)"
   ]
  },
  {
   "cell_type": "markdown",
   "id": "19",
   "metadata": {},
   "source": [
    "How should we encode the bigrams?\n",
    "Our 2D array is going to hold integers **only**, so we need a way to make this conversion.\n",
    "One way is to be a so-called **vocabulary** from our input data.\n",
    "\n",
    "A vocabulary requires two functions:\n",
    "1. `stoi`: string to integer (**encoding**)\n",
    "2. `itos`: integer to string (**decoding**)"
   ]
  },
  {
   "cell_type": "code",
   "execution_count": 44,
   "id": "20",
   "metadata": {},
   "outputs": [
    {
     "name": "stdout",
     "output_type": "stream",
     "text": [
      "['a', 'b', 'c', 'd', 'e', 'f', 'g', 'h', 'i', 'j', 'k', 'l', 'm', 'n', 'o', 'p', 'q', 'r', 's', 't', 'u', 'v', 'w', 'x', 'y', 'z']\n",
      "\n",
      "{'a': 1, 'b': 2, 'c': 3, 'd': 4, 'e': 5, 'f': 6, 'g': 7, 'h': 8, 'i': 9, 'j': 10, 'k': 11, 'l': 12, 'm': 13, 'n': 14, 'o': 15, 'p': 16, 'q': 17, 'r': 18, 's': 19, 't': 20, 'u': 21, 'v': 22, 'w': 23, 'x': 24, 'y': 25, 'z': 26, '.': 0}\n",
      "\n",
      "{1: 'a', 2: 'b', 3: 'c', 4: 'd', 5: 'e', 6: 'f', 7: 'g', 8: 'h', 9: 'i', 10: 'j', 11: 'k', 12: 'l', 13: 'm', 14: 'n', 15: 'o', 16: 'p', 17: 'q', 18: 'r', 19: 's', 20: 't', 21: 'u', 22: 'v', 23: 'w', 24: 'x', 25: 'y', 26: 'z', 0: '.'}\n"
     ]
    }
   ],
   "source": [
    "chars = sorted(set(''.join(words)))\n",
    "print(chars)\n",
    "print('')\n",
    "\n",
    "stoi = {s:i+1 for i, s in enumerate(chars)}\n",
    "stoi['.'] = 0 # special token for end of sentence is mapped to 0\n",
    "itos = {i:s for s, i in stoi.items()}\n",
    "\n",
    "print(stoi)\n",
    "print('')\n",
    "print(itos)"
   ]
  },
  {
   "cell_type": "code",
   "execution_count": 45,
   "id": "21",
   "metadata": {},
   "outputs": [
    {
     "name": "stdout",
     "output_type": "stream",
     "text": [
      "tensor([[   0, 4410, 1306, 1542, 1690, 1531,  417,  669,  874,  591, 2422, 2963,\n",
      "         1572, 2538, 1146,  394,  515,   92, 1639, 2055, 1308,   78,  376,  307,\n",
      "          134,  535,  929],\n",
      "        [6640,  556,  541,  470, 1042,  692,  134,  168, 2332, 1650,  175,  568,\n",
      "         2528, 1634, 5438,   63,   82,   60, 3264, 1118,  687,  381,  834,  161,\n",
      "          182, 2050,  435],\n",
      "        [ 114,  321,   38,    1,   65,  655,    0,    0,   41,  217,    1,    0,\n",
      "          103,    0,    4,  105,    0,    0,  842,    8,    2,   45,    0,    0,\n",
      "            0,   83,    0],\n",
      "        [  97,  815,    0,   42,    1,  551,    0,    2,  664,  271,    3,  316,\n",
      "          116,    0,    0,  380,    1,   11,   76,    5,   35,   35,    0,    0,\n",
      "            3,  104,    4],\n",
      "        [ 516, 1303,    1,    3,  149, 1283,    5,   25,  118,  674,    9,    3,\n",
      "           60,   30,   31,  378,    0,    1,  424,   29,    4,   92,   17,   23,\n",
      "            0,  317,    1],\n",
      "        [3983,  679,  121,  153,  384, 1271,   82,  125,  152,  818,   55,  178,\n",
      "         3248,  769, 2675,  269,   83,   14, 1958,  861,  580,   69,  463,   50,\n",
      "          132, 1070,  181],\n",
      "        [  80,  242,    0,    0,    0,  123,   44,    1,    1,  160,    0,    2,\n",
      "           20,    0,    4,   60,    0,    0,  114,    6,   18,   10,    0,    4,\n",
      "            0,   14,    2],\n",
      "        [ 108,  330,    3,    0,   19,  334,    1,   25,  360,  190,    3,    0,\n",
      "           32,    6,   27,   83,    0,    0,  201,   30,   31,   85,    1,   26,\n",
      "            0,   31,    1],\n",
      "        [2409, 2244,    8,    2,   24,  674,    2,    2,    1,  729,    9,   29,\n",
      "          185,  117,  138,  287,    1,    1,  204,   31,   71,  166,   39,   10,\n",
      "            0,  213,   20],\n",
      "        [2489, 2445,  110,  509,  440, 1653,  101,  428,   95,   82,   76,  445,\n",
      "         1345,  427, 2126,  588,   53,   52,  849, 1316,  541,  109,  269,    8,\n",
      "           89,  779,  277],\n",
      "        [  71, 1473,    1,    4,    4,  440,    0,    0,   45,  119,    2,    2,\n",
      "            9,    5,    2,  479,    1,    0,   11,    7,    2,  202,    5,    6,\n",
      "            0,   10,    0],\n",
      "        [ 363, 1731,    2,    2,    2,  895,    1,    0,  307,  509,    2,   20,\n",
      "          139,    9,   26,  344,    0,    0,  109,   95,   17,   50,    2,   34,\n",
      "            0,  379,    2],\n",
      "        [1314, 2623,   52,   25,  138, 2921,   22,    6,   19, 2480,    6,   24,\n",
      "         1345,   60,   14,  692,   15,    3,   18,   94,   77,  324,   72,   16,\n",
      "            0, 1588,   10],\n",
      "        [ 516, 2590,  112,   51,   24,  818,    1,    0,    5, 1256,    7,    1,\n",
      "            5,  168,   20,  452,   38,    0,   97,   35,    4,  139,    3,    2,\n",
      "            0,  287,   11],\n",
      "        [6763, 2977,    8,  213,  704, 1359,   11,  273,   26, 1725,   44,   58,\n",
      "          195,   19, 1906,  496,    5,    2,   44,  278,  443,   96,   55,   11,\n",
      "            6,  465,  145],\n",
      "        [ 855,  149,  140,  114,  190,  132,   34,   44,  171,   69,   16,   68,\n",
      "          619,  261, 2411,  115,   95,    3, 1059,  504,  118,  275,  176,  114,\n",
      "           45,  103,   54],\n",
      "        [  33,  209,    2,    1,    0,  197,    1,    0,  204,   61,    1,    1,\n",
      "           16,    1,    1,   59,   39,    0,  151,   16,   17,    4,    0,    0,\n",
      "            0,   12,    0],\n",
      "        [  28,   13,    0,    0,    0,    1,    0,    0,    0,   13,    0,    0,\n",
      "            1,    2,    0,    2,    0,    0,    1,    2,    0,  206,    0,    3,\n",
      "            0,    0,    0],\n",
      "        [1377, 2356,   41,   99,  187, 1697,    9,   76,  121, 3033,   25,   90,\n",
      "          413,  162,  140,  869,   14,   16,  425,  190,  208,  252,   80,   21,\n",
      "            3,  773,   23],\n",
      "        [1169, 1201,   21,   60,    9,  884,    2,    2, 1285,  684,    2,   82,\n",
      "          279,   90,   24,  531,   51,    1,   55,  461,  765,  185,   14,   24,\n",
      "            0,  215,   10],\n",
      "        [ 483, 1027,    1,   17,    0,  716,    2,    2,  647,  532,    3,    0,\n",
      "          134,    4,   22,  667,    0,    0,  352,   35,  374,   78,   15,   11,\n",
      "            2,  341,  105],\n",
      "        [ 155,  163,  103,  103,  136,  169,   19,   47,   58,  121,   14,   93,\n",
      "          301,  154,  275,   10,   16,   10,  414,  474,   82,    3,   37,   86,\n",
      "           34,   13,   45],\n",
      "        [  88,  642,    1,    0,    1,  568,    0,    0,    1,  911,    0,    3,\n",
      "           14,    0,    8,  153,    0,    0,   48,    0,    0,    7,    7,    0,\n",
      "            0,  121,    0],\n",
      "        [  51,  280,    1,    0,    8,  149,    2,    1,   23,  148,    0,    6,\n",
      "           13,    2,   58,   36,    0,    0,   22,   20,    8,   25,    0,    2,\n",
      "            0,   73,    1],\n",
      "        [ 164,  103,    1,    4,    5,   36,    3,    0,    1,  102,    0,    0,\n",
      "           39,    1,    1,   41,    0,    0,    0,   31,   70,    5,    0,    3,\n",
      "           38,   30,   19],\n",
      "        [2007, 2143,   27,  115,  272,  301,   12,   30,   22,  192,   23,   86,\n",
      "         1104,  148, 1826,  271,   15,    6,  291,  401,  104,  141,  106,    4,\n",
      "           28,   23,   78],\n",
      "        [ 160,  860,    4,    2,    2,  373,    0,    1,   43,  364,    2,    2,\n",
      "          123,   35,    4,  110,    2,    0,   32,    4,    4,   73,    2,    3,\n",
      "            1,  147,   45]], dtype=torch.int32)\n"
     ]
    }
   ],
   "source": [
    "for w in words:\n",
    "    chs = ['.'] + list(w) + ['.']\n",
    "    for ch1, ch2 in zip(chs, chs[1:]):\n",
    "        i = stoi[ch1]\n",
    "        j = stoi[ch2]\n",
    "        N[i, j] += 1\n",
    "print(N)"
   ]
  },
  {
   "cell_type": "markdown",
   "id": "22",
   "metadata": {},
   "source": [
    "Let's create a nice visualization of our bigram frequency table:"
   ]
  },
  {
   "cell_type": "code",
   "execution_count": 46,
   "id": "23",
   "metadata": {},
   "outputs": [
    {
     "data": {
      "image/png": "[encoded data removed]",
      "text/plain": [
       "<Figure size 1600x1600 with 1 Axes>"
      ]
     },
     "metadata": {},
     "output_type": "display_data"
    }
   ],
   "source": [
    "%matplotlib inline\n",
    "import matplotlib as mpl\n",
    "import matplotlib.pyplot as plt\n",
    "\n",
    "fig, ax = plt.subplots(figsize=(16,16))\n",
    "norm = mpl.colors.Normalize(vmin=N.min(), vmax=N.max())\n",
    "im = ax.imshow(N, cmap='Blues')\n",
    "\n",
    "for i in range(N.shape[0]):\n",
    "    for j in range(N.shape[1]):\n",
    "        val = norm(N[i,j])\n",
    "        text_color = 'white' if val > 0.5 else 'black'\n",
    "        # character\n",
    "        ax.text(j, i, itos[i]+itos[j],\n",
    "                ha=\"center\", va=\"bottom\",\n",
    "                color=text_color, fontweight='bold')\n",
    "        # count\n",
    "        ax.text(j, i, int(N[i,j]),\n",
    "                ha=\"center\", va=\"top\",\n",
    "                color=text_color)\n",
    "\n",
    "ax.set_axis_off()"
   ]
  },
  {
   "cell_type": "markdown",
   "id": "24",
   "metadata": {},
   "source": [
    "Our bigram model is essentially an iterative sampling from a probability distribution that describes how frequent each bigram is in the dataset.\n",
    "\n",
    "We already have the frequency table, so we need to built a probability distribution and a sampling mechanism.\n",
    "Let's do it for the first row, which represents the frequency of each bigram starting with the character '.'"
   ]
  },
  {
   "cell_type": "code",
   "execution_count": 49,
   "id": "25",
   "metadata": {},
   "outputs": [
    {
     "name": "stdout",
     "output_type": "stream",
     "text": [
      "tensor([   0., 4410., 1306., 1542., 1690., 1531.,  417.,  669.,  874.,  591.,\n",
      "        2422., 2963., 1572., 2538., 1146.,  394.,  515.,   92., 1639., 2055.,\n",
      "        1308.,   78.,  376.,  307.,  134.,  535.,  929.])\n",
      "\n",
      "tensor([0.0000, 0.1377, 0.0408, 0.0481, 0.0528, 0.0478, 0.0130, 0.0209, 0.0273,\n",
      "        0.0184, 0.0756, 0.0925, 0.0491, 0.0792, 0.0358, 0.0123, 0.0161, 0.0029,\n",
      "        0.0512, 0.0642, 0.0408, 0.0024, 0.0117, 0.0096, 0.0042, 0.0167, 0.0290])\n"
     ]
    }
   ],
   "source": [
    "proba = N[0].float()\n",
    "print(proba)\n",
    "print('')\n",
    "proba /= proba.sum()\n",
    "print(proba)"
   ]
  },
  {
   "cell_type": "markdown",
   "id": "26",
   "metadata": {},
   "source": [
    "PyTorch provides us with a method to sample from a [**Multinomial distribution**](https://docs.pytorch.org/docs/main/distributions.html#multinomial).\n",
    "A Multinomial distribution is a generalization of a [**Binomial distribution**](https://en.wikipedia.org/wiki/Binomial_distribution), where we sample from a distribution with more than two outcomes.\n",
    "\n",
    "To enforce predictability, we can initialize a random number generator with a fixed seed.\n",
    "Also, we need to allow sampling **with replacement**, so that we can sample the same token multiple times."
   ]
  },
  {
   "cell_type": "code",
   "execution_count": 50,
   "id": "27",
   "metadata": {},
   "outputs": [
    {
     "name": "stdout",
     "output_type": "stream",
     "text": [
      "c\n"
     ]
    }
   ],
   "source": [
    "gen = torch.Generator().manual_seed(2147483647)\n",
    "ix = torch.multinomial(proba, num_samples=1, replacement=True, generator=gen).item()\n",
    "print(itos[ix])"
   ]
  },
  {
   "cell_type": "markdown",
   "id": "28",
   "metadata": {},
   "source": [
    "We can of course sample as many tokens as we want:"
   ]
  },
  {
   "cell_type": "code",
   "execution_count": 51,
   "id": "29",
   "metadata": {},
   "outputs": [
    {
     "data": {
      "text/plain": [
       "tensor([ 9, 18,  2,  5,  3,  1, 13, 11, 11, 22, 11, 15, 26,  2, 18, 13, 10,  1,\n",
       "        15,  2,  3, 15, 10, 12,  4,  9,  3,  4,  6,  4, 19, 10,  3,  8,  4, 10,\n",
       "        13, 14, 13, 10, 19, 11,  8, 13,  5,  5,  6, 25, 20, 10, 18,  1,  8,  3,\n",
       "         2, 20,  1,  1,  3, 10, 11, 25, 18,  1,  9, 11,  8, 12,  3, 12, 19,  9,\n",
       "        18, 13,  4,  4, 13, 13,  8, 13,  1,  2,  4,  1,  6,  1,  1, 10, 14, 10,\n",
       "        13, 12, 10,  1,  1, 20, 18, 20, 19,  1])"
      ]
     },
     "execution_count": 51,
     "metadata": {},
     "output_type": "execute_result"
    }
   ],
   "source": [
    "torch.multinomial(proba, num_samples=100, replacement=True, generator=gen)"
   ]
  },
  {
   "cell_type": "markdown",
   "id": "30",
   "metadata": {},
   "source": [
    "You might have understood how the process goes: after we extract a given bigram, we need to lookup the most likely bigram that starts with the second character of the first bigram."
   ]
  },
  {
   "cell_type": "code",
   "execution_count": 58,
   "id": "31",
   "metadata": {},
   "outputs": [
    {
     "name": "stdout",
     "output_type": "stream",
     "text": [
      "cexze\n",
      "momasurailezitynn\n",
      "konimittain\n",
      "llayn\n",
      "ka\n",
      "da\n",
      "staiyaubrtthrigotai\n",
      "moliellavo\n",
      "ke\n",
      "teda\n",
      "ka\n",
      "emimmsade\n",
      "enkaviyny\n",
      "ftlspihinivenvorhlasu\n",
      "dsor\n",
      "br\n",
      "jol\n",
      "pen\n",
      "aisan\n",
      "ja\n"
     ]
    }
   ],
   "source": [
    "g = torch.Generator().manual_seed(2147483647)\n",
    "NUM_WORDS = 20\n",
    "\n",
    "for _ in range(NUM_WORDS):\n",
    "    \n",
    "    out = []\n",
    "    ix = 0\n",
    "    \n",
    "    while True:\n",
    "        # Compute the probabilities\n",
    "        p = N[ix].float()\n",
    "        p /= p.sum()\n",
    "    \n",
    "        # Sample the next character\n",
    "        ix = torch.multinomial(p, num_samples=1, replacement=True, generator=g).item()\n",
    "    \n",
    "        # Stop if we reach the end of the text\n",
    "        if ix == 0:\n",
    "          break\n",
    "        else:\n",
    "            # Add the character to the output\n",
    "            out.append(itos[ix])\n",
    "\n",
    "    print(''.join(out))"
   ]
  },
  {
   "cell_type": "markdown",
   "id": "32",
   "metadata": {},
   "source": [
    "The results are quite terrible, although they're reasonable given the simplicity of the model and the patterns we're trying to capture.\n",
    "\n",
    "The core problem is that a bigram model looks only at the frequency of a pair of tokens, but it has zero information of what's most likely to come before or after those two tokens.\n",
    "You can imagine that the obvious next step is a **trigram** model, which looks at the frequency of a triplet of tokens.\n",
    "\n",
    "Let's now improve a bit our code: the first thing is to compute **all** the probabilities once, and then sample from them.\n",
    "PyTorch tensors support **vectorized** operations, which means that we can perform operations on entire tensors at once, without having to loop through them.\n",
    "\n",
    "Each row of our 2D matrix contains the counts of how many times the token with that row index is followed by all the other tokens, whose indexes run along the columns.\n",
    "\n",
    "$$\n",
    "P_{ij}= \\frac{N_{ij}}{\\displaystyle\\sum_{k} N_{i k}}\n",
    "$$\n",
    "\n",
    "For each pair $(i,j)$:\n",
    "- The numerator $N_{ij}$ is the count of the number of times token `j` follows token `i`.\n",
    "- The denominator $\\sum_{k} N_{i k}$ is the total number of times *any* character follows `i`."
   ]
  },
  {
   "cell_type": "markdown",
   "id": "33",
   "metadata": {},
   "source": [
    "In Python\n",
    "\n",
    "```python\n",
    "P = N.float()\n",
    "P /= P.sum(dim=1, keepdim=True)\n",
    "```"
   ]
  },
  {
   "cell_type": "markdown",
   "id": "34",
   "metadata": {},
   "source": [
    "Here `dim=1` tells PyTorch to sum over the columns (the second index), while `keepdim=True` tells it to keep the first dimension (the first index) as a singleton (a `1`) dimension.\n",
    "Without `keepdim=True`, the result would have shape `(27,)`, and performing the division would produce the wrong result because of how [brodcasting](https://pytorch.org/docs/stable/notes/broadcasting.html) works.\n",
    "\n",
    "> Try to experiment with the `keepdim` parameter and see what happens if you remove it.\n",
    "> Can you explain why the predictions become complete garbage?"
   ]
  },
  {
   "cell_type": "code",
   "execution_count": 61,
   "id": "35",
   "metadata": {},
   "outputs": [
    {
     "name": "stdout",
     "output_type": "stream",
     "text": [
      "cexze.\n",
      "momasurailezitynn.\n",
      "konimittain.\n",
      "llayn.\n",
      "ka.\n",
      "da.\n",
      "staiyaubrtthrigotai.\n",
      "moliellavo.\n",
      "ke.\n",
      "teda.\n"
     ]
    }
   ],
   "source": [
    "g = torch.Generator().manual_seed(2147483647)\n",
    "\n",
    "P = N.float()\n",
    "P /= P.sum(dim=1, keepdim=True)\n",
    "\n",
    "for _ in range(10):\n",
    "  \n",
    "  out = []\n",
    "  ix = 0\n",
    "\n",
    "  while True:\n",
    "    # Get the probabilities\n",
    "    p = P[ix]\n",
    "    \n",
    "    # Sample the next character\n",
    "    ix = torch.multinomial(p, num_samples=1, replacement=True, generator=g).item()\n",
    "    \n",
    "    # Add the character to the output\n",
    "    out.append(itos[ix])\n",
    "    \n",
    "    # Stop if we reach the end of the text\n",
    "    if ix == 0:\n",
    "      break\n",
    "\n",
    "  print(''.join(out))"
   ]
  },
  {
   "cell_type": "markdown",
   "id": "36",
   "metadata": {},
   "source": [
    "### Evaluating the quality of the model"
   ]
  },
  {
   "cell_type": "markdown",
   "id": "37",
   "metadata": {},
   "source": [
    "We have built a bigram language model by counting letter combination frequencies, then normalizing and sampling with that probability base.\n",
    "\n",
    "We trained the model, we sampled from the model (iteratively, character-wise).\n",
    "But its still bad at coming up with names.\n",
    "\n",
    "But how bad?\n",
    "We know that the model's \"knowledge\" is represented by `P`, but how can we boil down the model's quality in one value?\n",
    "\n",
    "First, let's look at the bigrams we created from the dataset: the bigrams to `emma` are `.e, em, mm, ma, a.`.\n",
    "**What probability does the model assign to each of those bigrams?**"
   ]
  },
  {
   "cell_type": "code",
   "execution_count": 62,
   "id": "38",
   "metadata": {},
   "outputs": [
    {
     "name": "stdout",
     "output_type": "stream",
     "text": [
      ".e: 4.78%\n",
      "em: 3.77%\n",
      "mm: 2.53%\n",
      "ma: 38.99%\n",
      "a.: 19.60%\n"
     ]
    }
   ],
   "source": [
    "for w in words[:1]:\n",
    "    chs = ['.'] + list(w) + ['.']\n",
    "    for ch1, ch2 in zip(chs, chs[1:]): # Neat way for two char 'sliding-window'\n",
    "        ix1 = stoi[ch1]\n",
    "        ix2 = stoi[ch2]\n",
    "        prob = P[ix1, ix2]\n",
    "        print(f'{ch1}{ch2}: {prob:.2%}')"
   ]
  },
  {
   "cell_type": "markdown",
   "id": "39",
   "metadata": {},
   "source": [
    "Anything above or below $\\frac{1}{27} \\approx 3.7\\%$ means we deviate from the mean, that is, a completely uniform distribution of bigrams. \n",
    "And that means we learned something from the bigram statistics.\n",
    "\n",
    "How can we summarize these probabilities into a quality indicating measurement?\n",
    "We may compute the product of all probabilities — a number called the **likelihood**.\n",
    "But since all these probabilities are small numbers, the product is also a small number, and it is hard to compare likelihoods.\n",
    "Solution: *The log-likelihood, the **sum** of $\\log(P)$ over all the individual token probabilities* ($\\log$ is applied for convenience).\n",
    "\n",
    "> The higher the log-likelihood, the better the model, because the more capable it is of predicting the next character in a sequence from the dataset."
   ]
  },
  {
   "cell_type": "code",
   "execution_count": 67,
   "id": "40",
   "metadata": {},
   "outputs": [
    {
     "name": "stdout",
     "output_type": "stream",
     "text": [
      "log_likelihood=tensor(-559891.7500)\n",
      "nll=tensor(559891.7500)\n",
      "Average NLL: 2.4541\n"
     ]
    }
   ],
   "source": [
    "# Initialize variables\n",
    "log_likelihood = 0.0\n",
    "n = 0  # character pair count IN DATASET\n",
    "\n",
    "for word in words:\n",
    "    # Add start/end tokens and convert to character list\n",
    "    chars = ['.'] + list(word) + ['.']\n",
    "    \n",
    "    # Calculate log probabilities in a more compact way\n",
    "    for ch1, ch2 in zip(chars, chars[1:]):\n",
    "        prob = P[stoi[ch1], stoi[ch2]]\n",
    "        log_likelihood += torch.log(prob)\n",
    "        n += 1\n",
    "\n",
    "print(f'{log_likelihood=}')\n",
    "\n",
    "nll = -log_likelihood\n",
    "\n",
    "print(f'{nll=}')  # Negative log likelihood\n",
    "print(f'Average NLL: {nll/n:.4f}')  # More descriptive output"
   ]
  },
  {
   "cell_type": "markdown",
   "id": "41",
   "metadata": {},
   "source": [
    "We calculated a negative log-likelihood, because this follows the convention of setting the goal to minimize the **loss function**, the function that drives the optimization (i.e., training) process.\n",
    "The lower the loss/negative log-likelihood, the better the model.\n",
    "\n",
    "We got $2.45$ for the model.\n",
    "The lower, the better.\n",
    "We need to find the parameters that reduce this value.\n",
    "\n",
    "**Goal:** Maximize likelihood of the trained data w. r. t. model parameters in `P`\n",
    "- This is equivalent to maximizing the log-likelihood (as $\\log$ is monotonic)\n",
    "- This is equivalent to minimizing the *negative* log-likelihood\n",
    "- And this is equivalent to minimizing the average negative log-likelihood (the quality-measurement, as shown by $2.45$ above)"
   ]
  },
  {
   "cell_type": "markdown",
   "id": "42",
   "metadata": {},
   "source": [
    "There's an immediate problem, though: if we have a word containing a bigram that **never** appears in our training data, the model will assign a probability of $0$ to it, which will make the log-likelihood $-\\infty$."
   ]
  },
  {
   "cell_type": "code",
   "execution_count": 68,
   "id": "43",
   "metadata": {},
   "outputs": [
    {
     "name": "stdout",
     "output_type": "stream",
     "text": [
      "log_likelihood=tensor(-inf)\n",
      "nll=tensor(inf)\n",
      "Average NLL: inf\n"
     ]
    }
   ],
   "source": [
    "# Initialize variables\n",
    "log_likelihood = 0.0\n",
    "n = 0  # character pair count\n",
    "\n",
    "for word in [\"edobq\"]:\n",
    "    # Add start/end tokens and convert to character list\n",
    "    chars = ['.'] + list(word) + ['.']\n",
    "    \n",
    "    # Calculate log probabilities in a more compact way\n",
    "    for ch1, ch2 in zip(chars, chars[1:]):\n",
    "        prob = P[stoi[ch1], stoi[ch2]]\n",
    "        log_likelihood += torch.log(prob)\n",
    "        n += 1\n",
    "\n",
    "print(f'{log_likelihood=}')\n",
    "nll = -log_likelihood\n",
    "print(f'{nll=}')  # Negative log likelihood\n",
    "print(f'Average NLL: {nll/n:.4f}')  # More descriptive output"
   ]
  },
  {
   "cell_type": "markdown",
   "id": "44",
   "metadata": {},
   "source": [
    "A negative infinite log-likelihood is definitely not good because our optimizer will never find a \"stable\" solution.\n",
    "\n",
    "One simple fix is to assign a small but non-zero probability to every bigram: this is called **model smoothing**.\n",
    "The easiest way is to ensure that no bigram *never* appears: we can achieve this by adding a constant to our 2D matrix `N`."
   ]
  },
  {
   "cell_type": "code",
   "execution_count": 74,
   "id": "45",
   "metadata": {},
   "outputs": [
    {
     "name": "stdout",
     "output_type": "stream",
     "text": [
      "log_likelihood=tensor(-23.9499)\n",
      "nll=tensor(23.9499)\n",
      "Average NLL with 1.0000 smoothing: 3.9917\n"
     ]
    }
   ],
   "source": [
    "S = 1\n",
    "PS = (N + S).float()  # The higher the number, the more smoothing we apply\n",
    "PS /= PS.sum(dim=1, keepdim=True)\n",
    "\n",
    "# Initialize variables\n",
    "log_likelihood = 0.0\n",
    "n = 0  # character pair count\n",
    "\n",
    "for word in [\"edobq\"]:\n",
    "    # Add start/end tokens and convert to character list\n",
    "    chars = ['.'] + list(word) + ['.']\n",
    "    \n",
    "    # Calculate log probabilities in a more compact way\n",
    "    for ch1, ch2 in zip(chars, chars[1:]):\n",
    "        prob = PS[stoi[ch1], stoi[ch2]]  # Use the smoothed probabilities\n",
    "        log_likelihood += torch.log(prob)\n",
    "        n += 1\n",
    "\n",
    "print(f'{log_likelihood=}')\n",
    "nll = -log_likelihood\n",
    "print(f'{nll=}')  # Negative log likelihood\n",
    "print(f'Average NLL with {S:.4f} smoothing: {nll/n:.4f}')  # More descriptive output"
   ]
  },
  {
   "cell_type": "code",
   "execution_count": 75,
   "id": "f8b37eb8-8dd3-49ca-9887-942dc716389e",
   "metadata": {},
   "outputs": [
    {
     "name": "stdout",
     "output_type": "stream",
     "text": [
      "log_likelihood=tensor(-559951.5625)\n",
      "nll=tensor(559951.5625)\n",
      "Average NLL with 1.0000 smoothing: 2.4544\n"
     ]
    }
   ],
   "source": [
    "# apply smoothing\n",
    "S = 1\n",
    "PS = (N + S).float()\n",
    "PS /= PS.sum(dim=1, keepdim=True)\n",
    "\n",
    "# Initialize variables\n",
    "log_likelihood = 0.0\n",
    "n = 0  # character pair count IN DATASET\n",
    "\n",
    "for word in words:\n",
    "    # Add start/end tokens and convert to character list\n",
    "    chars = ['.'] + list(word) + ['.']\n",
    "    \n",
    "    # Calculate log probabilities in a more compact way\n",
    "    for ch1, ch2 in zip(chars, chars[1:]):\n",
    "        prob = PS[stoi[ch1], stoi[ch2]]\n",
    "        log_likelihood += torch.log(prob)\n",
    "        n += 1\n",
    "\n",
    "print(f'{log_likelihood=}')\n",
    "\n",
    "nll = -log_likelihood\n",
    "\n",
    "print(f'{nll=}')  # Negative log likelihood\n",
    "print(f'Average NLL with {S:.4f} smoothing: {nll/n:.4f}')  # More descriptive output"
   ]
  },
  {
   "cell_type": "markdown",
   "id": "46",
   "metadata": {},
   "source": [
    "## A neural network approach"
   ]
  },
  {
   "cell_type": "markdown",
   "id": "47",
   "metadata": {},
   "source": [
    "We will cast the problem of character estimation into the framework of neural networks.\n",
    "The problem remains the same, the approach changes, and the outcome should look similar.\n",
    "\n",
    "Our neural network **receives a single character** and **outputs the probability distribution over the next possible characters** ($27$ in this case).\n",
    "\n",
    "It's going to make guesses on the most likely character to follow.\n",
    "We can still measure the performance through the *same* loss function, the negative log-likelihood.\n",
    "\n",
    "From the training data, we also know the character that actually comes next in each training example.\n",
    "We'll use this information to fine-tune (i.e., train or update the parameters of) the neural network to make better guesses: this is a textbook example of **supervised learning**."
   ]
  },
  {
   "cell_type": "markdown",
   "id": "48",
   "metadata": {},
   "source": [
    "### The training set"
   ]
  },
  {
   "cell_type": "code",
   "execution_count": 132,
   "id": "49",
   "metadata": {},
   "outputs": [],
   "source": [
    "import torch"
   ]
  },
  {
   "cell_type": "code",
   "execution_count": 229,
   "id": "50",
   "metadata": {},
   "outputs": [
    {
     "name": "stdout",
     "output_type": "stream",
     "text": [
      "tensor([ 0,  5, 13,  ..., 25, 26, 24]) tensor([ 5, 13, 13,  ..., 26, 24,  0])\n"
     ]
    }
   ],
   "source": [
    "# Create training set of all bigrams\n",
    "xs, ys = [], [] # Input and output character indices\n",
    "\n",
    "for w in words:\n",
    "    chs = ['.'] + list(w) + ['.']\n",
    "    for ch1, ch2 in zip(chs, chs[1:]):\n",
    "        ix1 = stoi[ch1]\n",
    "        ix2 = stoi[ch2]\n",
    "        xs.append(ix1)\n",
    "        ys.append(ix2)\n",
    "\n",
    "# Convert lists to tensors\n",
    "xs = torch.tensor(xs)\n",
    "ys = torch.tensor(ys)\n",
    "print(xs, ys)"
   ]
  },
  {
   "cell_type": "markdown",
   "id": "51",
   "metadata": {},
   "source": [
    "We can inspect the first few tokens from the two tensors:\n",
    "- `xs` will be the input tokens (what the model will see)\n",
    "- `ys` will be the target tokens (what we want the model to predict)"
   ]
  },
  {
   "cell_type": "code",
   "execution_count": 134,
   "id": "52",
   "metadata": {},
   "outputs": [
    {
     "name": "stdout",
     "output_type": "stream",
     "text": [
      "For character #0 \".\" in xs, we expect the model to predict \"e\"\n",
      "For character #1 \"e\" in xs, we expect the model to predict \"m\"\n",
      "For character #2 \"m\" in xs, we expect the model to predict \"m\"\n",
      "For character #3 \"m\" in xs, we expect the model to predict \"a\"\n",
      "For character #4 \"a\" in xs, we expect the model to predict \".\"\n"
     ]
    }
   ],
   "source": [
    "for i in range(5):\n",
    "    print(f'For character #{i} \"{itos[xs[i].item()]}\" in xs, we expect the model to predict \"{itos[ys[i].item()]}\"')"
   ]
  },
  {
   "cell_type": "markdown",
   "id": "53",
   "metadata": {},
   "source": [
    "One important detail about PyTorch tensors: there exists `torch.Tensor` (a class) and `torch.tensor()` (a method).\n",
    "They are related, but different:\n",
    "- `torch.Tensor` is a class, and every PyTorch tensor is an instance of this class.\n",
    "- `torch.tensor()` is a method to create a tensor, with `dtype` automatically inferred from the input data.\n",
    "\n",
    "Except for when initializing a completely empty tensor, in general there is no reason to choose `torch.Tensor` over `torch.tensor`. \n",
    "Note that `torch.Tensor` is an alias for `torch.FloatTensor`, with a default `dtype` of `torch.float32`.\n",
    "\n",
    "In general, you should use `torch.tensor()` almost always, unless you have a specific reason to use `torch.Tensor`.\n",
    "\n",
    "Here you can find more details from the official docs:\n",
    "- [`torch.tensor()`](https://docs.pytorch.org/docs/stable/generated/torch.tensor.html#torch-tensor)\n",
    "- [`torch.Tensor`](https://docs.pytorch.org/docs/stable/tensors.html)"
   ]
  },
  {
   "cell_type": "code",
   "execution_count": 135,
   "id": "54",
   "metadata": {},
   "outputs": [
    {
     "data": {
      "text/plain": [
       "(torch.int64, 'torch.LongTensor')"
      ]
     },
     "execution_count": 135,
     "metadata": {},
     "output_type": "execute_result"
    }
   ],
   "source": [
    "xs.dtype, xs.type()"
   ]
  },
  {
   "cell_type": "markdown",
   "id": "55",
   "metadata": {},
   "source": [
    "`torch.LongTensor` here means that the tensor contains 64-bit (8-byte) integers."
   ]
  },
  {
   "cell_type": "markdown",
   "id": "56",
   "metadata": {},
   "source": [
    "### Feeding the network"
   ]
  },
  {
   "cell_type": "markdown",
   "id": "57",
   "metadata": {},
   "source": [
    "A neural network essentially is made up of **layers**.\n",
    "At high-level, each layer is typically a linear transformation followed by a non-linear activation function.\n",
    "Something like: $\\text{output} = \\text{activation}(\\text{weights} \\cdot \\text{input} + \\text{bias})$\n",
    "\n",
    "If we were to feed our characters as integer indexes, we would have a sequence of integer indexes as input.\n",
    "If `a` is 1 and `z` is 25, the weight applied to `z` will have 25 times more impact on the output than `a`.\n",
    "This creates an arbitrary and misleading mathematical relationship.\n",
    "\n",
    "Moreover, during the training (optimization) phase, the updates to the weights will be proportional to their input values.\n",
    "Larger input values will cause larger updates to the weights, which can lead to unstable training.\n",
    "\n",
    "And lastly, the network has no reference to the potential value range.\n",
    "It doesn't know that the values are constrained to a specific set (like 0-25 for letters).\n",
    "\n",
    "To address all these issues, we can use **one-hot encoding**.\n",
    "One-hot encoding each letter means creating a vector where only one position has a value of 1 (corresponding to that letter's position in the alphabet) and all other positions are 0.\n",
    "This gives the neural network a much clearer signal about which letter is present without introducing misleading numerical relationships.\n",
    "This approach is particularly important in language models where the relationships between symbols (letters, words) are learned from their contexts and co-occurrences, not from arbitrary numeric values assigned to them."
   ]
  },
  {
   "cell_type": "markdown",
   "id": "58",
   "metadata": {},
   "source": [
    "Luckily, PyTorch provides a convenient way to perform one-hot encoding using the `torch.nn.functional.one_hot` function."
   ]
  },
  {
   "cell_type": "markdown",
   "id": "59",
   "metadata": {},
   "source": [
    "Let's encode the first 5 tokens (`.emma`), print and visualize the result:"
   ]
  },
  {
   "cell_type": "code",
   "execution_count": 230,
   "id": "60",
   "metadata": {},
   "outputs": [
    {
     "data": {
      "text/plain": [
       "torch.Size([5, 27])"
      ]
     },
     "execution_count": 230,
     "metadata": {},
     "output_type": "execute_result"
    }
   ],
   "source": [
    "import torch.nn.functional as F\n",
    "F.one_hot(xs[:5], num_classes=27)\n",
    "xenc = F.one_hot(xs[:5], num_classes=27)\n",
    "xenc.shape"
   ]
  },
  {
   "cell_type": "code",
   "execution_count": 138,
   "id": "62",
   "metadata": {},
   "outputs": [
    {
     "data": {
      "text/plain": [
       "<matplotlib.image.AxesImage at 0x2a686a19390>"
      ]
     },
     "execution_count": 138,
     "metadata": {},
     "output_type": "execute_result"
    },
    {
     "data": {
      "image/png": "[encoded data removed]",
      "text/plain": [
       "<Figure size 640x480 with 1 Axes>"
      ]
     },
     "metadata": {},
     "output_type": "display_data"
    }
   ],
   "source": [
    "%matplotlib inline\n",
    "import matplotlib.pyplot as plt\n",
    "plt.imshow(xenc)"
   ]
  },
  {
   "cell_type": "markdown",
   "id": "63",
   "metadata": {},
   "source": [
    "One problem is the `dtype` of the one-hot encoded tensor.\n",
    "It is `torch.int64` by default (inferred from our data), but we need `torch.float32` to have an input suitable for the mathematical operations the network will perform.\n",
    "\n",
    "We can convert it using `.float()`:"
   ]
  },
  {
   "cell_type": "code",
   "execution_count": 139,
   "id": "64",
   "metadata": {},
   "outputs": [
    {
     "data": {
      "text/plain": [
       "torch.float32"
      ]
     },
     "execution_count": 139,
     "metadata": {},
     "output_type": "execute_result"
    }
   ],
   "source": [
    "xenc = F.one_hot(xs[:5], num_classes=27).float()\n",
    "xenc.dtype"
   ]
  },
  {
   "cell_type": "markdown",
   "id": "65",
   "metadata": {},
   "source": [
    "Let's experiment with neurons.\n",
    "We build one $27$-dimensional neuron and approach it with the letter-wise input of our first name `.emma` (That's $5$ letters)\n",
    "\n",
    "A neuron is represented as a column vector of $27$ numbers, randomly drawn from a normal distribution.\n",
    "We can do this with [`torch.randn`](https://docs.pytorch.org/docs/main/generated/torch.randn.html):"
   ]
  },
  {
   "cell_type": "code",
   "execution_count": 140,
   "id": "66",
   "metadata": {},
   "outputs": [
    {
     "name": "stdout",
     "output_type": "stream",
     "text": [
      "tensor([[ 1.5674],\n",
      "        [-0.0296],\n",
      "        [ 0.0380],\n",
      "        [ 0.0380],\n",
      "        [-0.2373]])\n"
     ]
    }
   ],
   "source": [
    "g = torch.Generator().manual_seed(2147483647)\n",
    "\n",
    "W = torch.randn((27,1), generator=g)\n",
    "# '@' is PyTorch's matrix multiplication operator (5x27 @ 27x1 -> 5x1)\n",
    "a = xenc @ W\n",
    "\n",
    "# This is now a 5x1 vector\n",
    "print(a)"
   ]
  },
  {
   "cell_type": "markdown",
   "id": "67",
   "metadata": {},
   "source": [
    "`W` is a **single** neuron.\n",
    "Multiplying it by `xenc` makes it 'react' to the one-hot encoded input.\n",
    "The result is a $5\\times 1$ vector.\n",
    "\n",
    "`.emma` has $5$ characters, we have $1$ neuron.\n",
    "When this neuron processes the 5 characters of \".emma\", it produces 5 activation values, one for each character.\n",
    "Each activation value represents how strongly the neuron \"reacts\" to or \"recognizes\" each character.\n",
    "\n",
    "We want to have $27$ neurons, one for each possible character.\n",
    "Each neuron can \"specialize\" in recognizing one specific character.\n",
    "Also, since each neuron has $27$ dimensions, we'll end up with a matrix $27\\times 27$ of weights."
   ]
  },
  {
   "cell_type": "code",
   "execution_count": 141,
   "id": "68",
   "metadata": {},
   "outputs": [
    {
     "name": "stdout",
     "output_type": "stream",
     "text": [
      "tensor([[-1.0549,  0.8372, -0.4971, -0.9398,  0.1343,  0.0540, -1.7400,  0.1156,\n",
      "          0.2222,  1.0656, -0.0115,  0.4835, -0.3164,  0.3801,  0.4733, -0.9103,\n",
      "          2.0275, -0.1158, -1.2078, -0.7441, -0.5903,  0.9374, -0.8830,  1.7457,\n",
      "         -0.2838,  0.2569,  0.2130],\n",
      "        [ 1.8598,  0.6098, -0.2536, -0.6392, -0.7340,  2.0002, -0.3946,  0.0144,\n",
      "          0.5722, -0.6954, -0.3695, -1.2707, -0.7319, -0.2145,  0.3271,  1.9661,\n",
      "         -0.2409, -0.2544, -0.1217, -0.7924,  0.9805,  0.4113,  1.2648,  1.4625,\n",
      "          1.1199, -0.5960, -1.4941],\n",
      "        [ 1.7206, -0.1636,  1.0800, -0.3147, -0.6407,  0.0451, -0.7922,  1.2307,\n",
      "         -0.5276, -2.0498, -0.6486,  0.6921, -1.2772, -0.0102,  0.7459,  0.4899,\n",
      "         -1.0034,  0.4609,  0.3420, -0.3521,  0.6725, -0.4441,  1.2331,  0.7748,\n",
      "          0.2431,  0.8989, -0.7754],\n",
      "        [ 1.7206, -0.1636,  1.0800, -0.3147, -0.6407,  0.0451, -0.7922,  1.2307,\n",
      "         -0.5276, -2.0498, -0.6486,  0.6921, -1.2772, -0.0102,  0.7459,  0.4899,\n",
      "         -1.0034,  0.4609,  0.3420, -0.3521,  0.6725, -0.4441,  1.2331,  0.7748,\n",
      "          0.2431,  0.8989, -0.7754],\n",
      "        [ 1.5514, -1.3410, -1.0447, -0.6641, -0.7239, -0.3717, -0.9838, -0.1526,\n",
      "         -1.9297, -0.0789, -1.1641,  1.2473, -0.2706, -0.3056, -0.5421, -0.5923,\n",
      "         -0.6426, -0.1000, -1.2575,  0.9418, -1.3257, -0.3639,  0.0948, -1.1645,\n",
      "          1.8010,  0.4707, -0.8746]])\n"
     ]
    },
    {
     "data": {
      "text/plain": [
       "<matplotlib.image.AxesImage at 0x2a686acbb50>"
      ]
     },
     "execution_count": 141,
     "metadata": {},
     "output_type": "execute_result"
    },
    {
     "data": {
      "image/png": "[encoded data removed]",
      "text/plain": [
       "<Figure size 640x480 with 1 Axes>"
      ]
     },
     "metadata": {},
     "output_type": "display_data"
    }
   ],
   "source": [
    "W = torch.randn((27,27), generator=g)\n",
    "a = xenc @ W\n",
    "\n",
    "# This is now a 5x27 matrix\n",
    "print(a)\n",
    "plt.imshow(a)"
   ]
  },
  {
   "cell_type": "markdown",
   "id": "69",
   "metadata": {},
   "source": [
    "What the matrix multiplication did is give us the **firing rates** of each neuron for each character.\n",
    "For example `(a @ W)[3, 13]` is the firing rate of the 14th neuron for the 4th character.\n",
    "This is a very efficient way of computing the firing rates for all characters and all neurons."
   ]
  },
  {
   "cell_type": "code",
   "execution_count": 142,
   "id": "70",
   "metadata": {},
   "outputs": [
    {
     "data": {
      "text/plain": [
       "(tensor([0., 0., 0., 0., 0., 0., 0., 0., 0., 0., 0., 0., 0., 1., 0., 0., 0., 0.,\n",
       "         0., 0., 0., 0., 0., 0., 0., 0., 0.]),\n",
       " tensor([ 0.3801, -0.3056,  0.2072,  0.3175, -0.0558, -0.2145,  1.2348,  0.5205,\n",
       "          0.8183, -0.6310, -1.4107,  0.6339, -0.0954, -0.0102,  0.0318,  0.1788,\n",
       "         -0.2639,  0.2347,  0.5703, -2.3025, -1.8563,  1.3698, -0.3301,  1.2284,\n",
       "         -0.7660,  0.1472, -0.5651]))"
      ]
     },
     "execution_count": 142,
     "metadata": {},
     "output_type": "execute_result"
    }
   ],
   "source": [
    "xenc[3], W[:, 13]"
   ]
  },
  {
   "cell_type": "code",
   "execution_count": 143,
   "id": "71",
   "metadata": {},
   "outputs": [
    {
     "data": {
      "text/plain": [
       "(tensor(-0.0102), tensor(-0.0102))"
      ]
     },
     "execution_count": 143,
     "metadata": {},
     "output_type": "execute_result"
    }
   ],
   "source": [
    "(xenc[3] * W[:, 13]).sum(), (xenc @ W)[3, 13]"
   ]
  },
  {
   "cell_type": "markdown",
   "id": "72",
   "metadata": {},
   "source": [
    "### Regaining a normal distribution"
   ]
  },
  {
   "cell_type": "markdown",
   "id": "73",
   "metadata": {},
   "source": [
    "We want the neurons per input (per character) to come up with a $27$-dimensional activation of values that could be transformed into a normal distribution on what character to choose next.\n",
    "We've seen that with the Bigram's probability distribution, given info per character on what character is most likely to follow.\n",
    "\n",
    "Right now, for every character we get $27$ numbers, positive and negative, but not following a normal distribution.\n",
    "\n",
    "- **What we want:** For each character in our input, we want to predict the probability distribution of the next character (similar to a bigram model).\n",
    "\n",
    "- **What we have:** For each character in our input, we get $27$ numbers, positive and negative, but not following a normal distribution.\n",
    "\n",
    "- **Problem:** These raw outputs are just arbitrary numbers that can be positive or negative.\n",
    "They don't naturally sum to 1 or represent probabilities.\n",
    "\n",
    "The solution is to change our interpretation of the output values of the neurons.\n",
    "We can think of the neural network's raw outputs as \"log-counts\" (also called \"logits\") or \"scores\" rather than direct probabilities.\n",
    "\n",
    "To convert this numbers into proper probabilities:\n",
    "\n",
    "1. First, we **exponentiate** each value (turning negative numbers into small positives and making large positives even larger)\n",
    "2. Then, we normalize the values so that they sum to 1.\n",
    "\n",
    "This is achievied with a function called **softmax** function."
   ]
  },
  {
   "cell_type": "code",
   "execution_count": 144,
   "id": "74",
   "metadata": {},
   "outputs": [
    {
     "name": "stdout",
     "output_type": "stream",
     "text": [
      "torch.Size([5, 27])\n",
      "tensor([1., 1., 1., 1., 1.])\n"
     ]
    },
    {
     "data": {
      "image/png": "[encoded data removed]",
      "text/plain": [
       "<Figure size 640x480 with 1 Axes>"
      ]
     },
     "metadata": {},
     "output_type": "display_data"
    }
   ],
   "source": [
    "# Compute the raw output scores (logits) for each character in the input\n",
    "logits = xenc @ W  # Shape: (5, 27) - 5 input characters, 27 possible output characters\n",
    "\n",
    "# Exponentiate the logits to get positive \"fake counts\" (similar to unnormalized probabilities)\n",
    "counts = logits.exp()  # Negative logits yield values between 0 and 1; positive logits yield values greater than 1; Shape: (5, 27)\n",
    "\n",
    "# Normalize the counts along each row to obtain probabilities (each row sums to 1)\n",
    "probs = counts / counts.sum(1, keepdims=True)  # Shape: (5, 27)\n",
    "plt.imshow(probs)\n",
    "\n",
    "# Print the shape of the probability matrix and verify normalization\n",
    "print(probs.shape)      # Will print: (5, 27)\n",
    "print(probs.sum(1))   # Will print: 1.0 (or very close, due to floating point precision)"
   ]
  },
  {
   "cell_type": "markdown",
   "id": "75",
   "metadata": {},
   "source": [
    "It might seem unusual, but after this transformation, we have a set of numbers that we can use just like the actual counts from the bigram model.\n",
    "\n",
    "All the values are non-negative: think of them as \"pseudo-counts.\"\n",
    "Now, our goal is simply to adjust the weights `W` so that the network produces the correct character indices as output."
   ]
  },
  {
   "cell_type": "markdown",
   "id": "76",
   "metadata": {},
   "source": [
    "### Recap: How the Neural Network Processes Input Characters\n",
    "\n",
    "Given the input `.emma`, the neural network handles each character step by step:\n",
    "\n",
    "1. **Input Preparation:**  \n",
    "   - Take the current character (e.g., `.`) and map it to its index (e.g., 0).\n",
    "   - One-hot encode this index into a 27-dimensional vector.\n",
    "\n",
    "2. **Neural Network Computation:**  \n",
    "   - Feed the one-hot vector into the network (shape: $27 \\times 1$).\n",
    "   - The network applies its weights, producing a $1 \\times 27$ vector of activations (logits).\n",
    "\n",
    "3. **Softmax Transformation:**  \n",
    "   - Exponentiate each logit to ensure all values are positive.\n",
    "   - Normalize the result so the values sum to 1, yielding a probability distribution over all possible next characters.\n",
    "\n",
    "The Softmax function turns the network's raw outputs into probabilities, indicating how likely each character is to follow the current input.\n",
    "\n",
    "The core question is now:  \n",
    "Can we optimize the weights `W` so that the network’s predicted probabilities match the actual sequence in our data?"
   ]
  },
  {
   "cell_type": "markdown",
   "id": "77",
   "metadata": {},
   "source": [
    "We can now evaluate how well our neural network predicts the next character in a sequence.\n",
    "For each bigram (pair of consecutive characters), we:\n",
    "\n",
    "- Feed the input character to the neural network.\n",
    "- Get the predicted probability distribution for the next character.\n",
    "- Check how much probability the network assigns to the actual next character.\n",
    "- Calculate the negative log-likelihood (NLL) for this prediction, which tells us how \"surprised\" the network is by the true answer (lower is better).\n",
    "- Finally, we average the NLLs across all bigrams to get the overall loss, which is what we want to minimize during training."
   ]
  },
  {
   "cell_type": "code",
   "execution_count": 147,
   "id": "78",
   "metadata": {},
   "outputs": [
    {
     "name": "stdout",
     "output_type": "stream",
     "text": [
      "\n",
      "-------\n",
      "Bigram 1: (\".\", \"e\") [indexes (0, 5)]\n",
      "  Input to neural net: 0 (\".\")\n",
      "  Output probabilities:\n",
      "tensor([0.0087, 0.0579, 0.0152, 0.0098, 0.0287, 0.0264, 0.0044, 0.0281, 0.0313,\n",
      "        0.0727, 0.0248, 0.0406, 0.0183, 0.0366, 0.0402, 0.0101, 0.1903, 0.0223,\n",
      "        0.0075, 0.0119, 0.0139, 0.0640, 0.0104, 0.1436, 0.0189, 0.0324, 0.0310])\n",
      "  Most likely next character: p (index 16, probability 0.1903, log likelihood 1.6591)\n",
      "  Actual next character (label): e (index 5)\n",
      "  Probability assigned to correct character: 0.0264\n",
      "  Log likelihood: -3.6326\n",
      "  Negative log likelihood: 3.6326\n",
      "\n",
      "-------\n",
      "Bigram 2: (\"e\", \"m\") [indexes (5, 13)]\n",
      "  Input to neural net: 5 (\"e\")\n",
      "  Output probabilities:\n",
      "tensor([0.1260, 0.0361, 0.0152, 0.0104, 0.0094, 0.1450, 0.0132, 0.0199, 0.0348,\n",
      "        0.0098, 0.0136, 0.0055, 0.0094, 0.0158, 0.0272, 0.1402, 0.0154, 0.0152,\n",
      "        0.0174, 0.0089, 0.0523, 0.0296, 0.0695, 0.0847, 0.0601, 0.0108, 0.0044])\n",
      "  Most likely next character: e (index 5, probability 0.1450, log likelihood 1.9308)\n",
      "  Actual next character (label): m (index 13)\n",
      "  Probability assigned to correct character: 0.0158\n",
      "  Log likelihood: -4.1455\n",
      "  Negative log likelihood: 4.1455\n",
      "\n",
      "-------\n",
      "Bigram 3: (\"m\", \"m\") [indexes (13, 13)]\n",
      "  Input to neural net: 13 (\"m\")\n",
      "  Output probabilities:\n",
      "tensor([0.1388, 0.0211, 0.0731, 0.0181, 0.0131, 0.0260, 0.0112, 0.0850, 0.0147,\n",
      "        0.0032, 0.0130, 0.0496, 0.0069, 0.0246, 0.0524, 0.0405, 0.0091, 0.0394,\n",
      "        0.0350, 0.0175, 0.0487, 0.0159, 0.0852, 0.0539, 0.0317, 0.0610, 0.0114])\n",
      "  Most likely next character: . (index 0, probability 0.1388, log likelihood 1.9749)\n",
      "  Actual next character (label): m (index 13)\n",
      "  Probability assigned to correct character: 0.0246\n",
      "  Log likelihood: -3.7057\n",
      "  Negative log likelihood: 3.7057\n",
      "\n",
      "-------\n",
      "Bigram 4: (\"m\", \"a\") [indexes (13, 1)]\n",
      "  Input to neural net: 13 (\"m\")\n",
      "  Output probabilities:\n",
      "tensor([0.1388, 0.0211, 0.0731, 0.0181, 0.0131, 0.0260, 0.0112, 0.0850, 0.0147,\n",
      "        0.0032, 0.0130, 0.0496, 0.0069, 0.0246, 0.0524, 0.0405, 0.0091, 0.0394,\n",
      "        0.0350, 0.0175, 0.0487, 0.0159, 0.0852, 0.0539, 0.0317, 0.0610, 0.0114])\n",
      "  Most likely next character: . (index 0, probability 0.1388, log likelihood 1.9749)\n",
      "  Actual next character (label): a (index 1)\n",
      "  Probability assigned to correct character: 0.0211\n",
      "  Log likelihood: -3.8591\n",
      "  Negative log likelihood: 3.8591\n",
      "\n",
      "-------\n",
      "Bigram 5: (\"a\", \".\") [indexes (1, 0)]\n",
      "  Input to neural net: 1 (\"a\")\n",
      "  Output probabilities:\n",
      "tensor([0.1548, 0.0086, 0.0115, 0.0169, 0.0159, 0.0226, 0.0123, 0.0282, 0.0048,\n",
      "        0.0303, 0.0102, 0.1142, 0.0250, 0.0242, 0.0191, 0.0181, 0.0173, 0.0297,\n",
      "        0.0093, 0.0842, 0.0087, 0.0228, 0.0361, 0.0102, 0.1987, 0.0525, 0.0137])\n",
      "  Most likely next character: x (index 24, probability 0.1987, log likelihood 1.6159)\n",
      "  Actual next character (label): . (index 0)\n",
      "  Probability assigned to correct character: 0.1548\n",
      "  Log likelihood: -1.8655\n",
      "  Negative log likelihood: 1.8655\n",
      "\n",
      "============\n",
      "Average negative log likelihood (loss): 3.4417\n"
     ]
    }
   ],
   "source": [
    "import numpy as np\n",
    "\n",
    "# Reminder: xs is a tensor containing the indexes of **all** the characters\n",
    "# We take the first 5 characters to form the bigrams\n",
    "xs = xs[:5]\n",
    "ys = ys[:5]\n",
    "\n",
    "# Initialize tensor to store negative log likelihoods (NLL) for each bigram\n",
    "nlls_old = torch.zeros(len(xs))  # There are 5 bigrams in '.emma.'\n",
    "\n",
    "# Loop through each bigram in the sequence\n",
    "for i in range(len(xs)):\n",
    "    x = xs[i].item()  # Input character index\n",
    "    y = ys[i].item()  # Target (next) character index\n",
    "\n",
    "    print(\"\\n-------\")\n",
    "    print(f'Bigram {i+1}: (\"{itos[x]}\", \"{itos[y]}\") [indexes ({x}, {y})]')\n",
    "    print(f'  Input to neural net: {x} (\"{itos[x]}\")')\n",
    "    print(f'  Output probabilities:\\n{probs[i]}') # probabilities for the next character according to the single, randomly initialized neuron are saved in the vector 'probs' and called here\n",
    "    \n",
    "    # Most likely next character according to the model\n",
    "    predicted_index = probs[i].argmax().item()\n",
    "    predicted_char = itos[predicted_index]\n",
    "    predicted_prob = probs[i].max().item()\n",
    "    print(f'  Most likely next character: {predicted_char} (index {predicted_index}, probability {predicted_prob:.4f}, log likelihood {-np.log(predicted_prob):.4f})')\n",
    "    \n",
    "    print(f'  Actual next character (label): {itos[y]} (index {y})')\n",
    "    \n",
    "    # Probability assigned to the correct character\n",
    "    p = probs[i, y]\n",
    "    print(f'  Probability assigned to correct character: {p.item():.4f}')\n",
    "    \n",
    "    # Log likelihood and negative log likelihood (of correct character)\n",
    "    logp = torch.log(p)\n",
    "    nll = -logp\n",
    "    print(f'  Log likelihood: {logp.item():.4f}')\n",
    "    print(f'  Negative log likelihood: {nll.item():.4f}')\n",
    "    \n",
    "    # Store NLL for this bigram\n",
    "    nlls_old[i] = nll\n",
    "\n",
    "print('\\n============')\n",
    "print(f'Average negative log likelihood (loss): {nlls_old.mean().item():.4f}')"
   ]
  },
  {
   "cell_type": "markdown",
   "id": "79",
   "metadata": {},
   "source": [
    "What do these results tell us?\n",
    "- In each case, the probability assigned to the correct next character is relatively low, meaning the model is not yet confident in its predictions.\n",
    "- The most likely character predicted by the model is often not the correct one.\n",
    "- The negative log likelihood values are relatively high, indicating the model is “surprised” by the true next character.\n",
    "- The final line reports the average negative log likelihood (loss) across all bigrams: 3.44.\n",
    "This is a key metric for training — the goal is to minimize this value by adjusting the model’s weights.\n",
    "\n",
    "The network is currently not very accurate at predicting the next character, as shown by the low probabilities for the correct answers and the high loss.\n",
    "This is expected at the start, before any training."
   ]
  },
  {
   "cell_type": "markdown",
   "id": "80",
   "metadata": {},
   "source": [
    "### Optimization"
   ]
  },
  {
   "cell_type": "markdown",
   "id": "81",
   "metadata": {},
   "source": [
    "Remember that we started with `W` as a completely random matrix of floats.\n",
    "Hoping that random initialization would yield a good solution is like hoping that a random collection of Lego bricks will build a house.\n",
    "\n",
    "Instead, we will actively improve the model’s predictions.\n",
    "Specifically, we will adjust the weights in the matrix `W` to increase the probability of correctly predicting the second character in each bigram.\n",
    "\n",
    "This is done by computing how the loss changes with respect to each weight (i.e., calculating the gradients), and then updating the weights in a way to reduce the overall loss.\n",
    "This process — called **gradient-based optimization** — enables the neural network to learn from its mistakes and become better at predicting the next character in the sequence."
   ]
  },
  {
   "cell_type": "code",
   "execution_count": 148,
   "id": "82",
   "metadata": {},
   "outputs": [
    {
     "name": "stdout",
     "output_type": "stream",
     "text": [
      "Probability assigned by the model to the correct next character for each bigram:\n",
      "\n",
      "input \".\" → output \"e\"   : 0.0264\n",
      "input \"e\" → output \"m\"   : 0.0158\n",
      "input \"m\" → output \"m\"   : 0.0246\n",
      "input \"m\" → output \"a\"   : 0.0211\n",
      "input \"a\" → output \".\"   : 0.1548\n"
     ]
    }
   ],
   "source": [
    "# Display the probability assigned by the model to the correct next character for each bigram\n",
    "bigram_descriptions = [\n",
    "    ('input \".\" → output \"e\"', 0, 5),\n",
    "    ('input \"e\" → output \"m\"', 1, 13),\n",
    "    ('input \"m\" → output \"m\"', 2, 13),\n",
    "    ('input \"m\" → output \"a\"', 3, 1),\n",
    "    ('input \"a\" → output \".\"', 4, 0),\n",
    "]\n",
    "\n",
    "print(\"Probability assigned by the model to the correct next character for each bigram:\\n\")\n",
    "for desc, i, j in bigram_descriptions:\n",
    "    prob = probs[i, j].item()\n",
    "    print(f\"{desc:25s}: {prob:.4f}\")"
   ]
  },
  {
   "cell_type": "markdown",
   "id": "83",
   "metadata": {},
   "source": [
    "We can extract pretty easily with PyTorch the probabilities the model assigns to the correct next character for each bigram:"
   ]
  },
  {
   "cell_type": "code",
   "execution_count": 149,
   "id": "84",
   "metadata": {},
   "outputs": [
    {
     "data": {
      "text/plain": [
       "tensor([0.0264, 0.0158, 0.0246, 0.0211, 0.1548])"
      ]
     },
     "execution_count": 149,
     "metadata": {},
     "output_type": "execute_result"
    }
   ],
   "source": [
    "probs[torch.arange(len(probs)), ys]"
   ]
  },
  {
   "cell_type": "markdown",
   "id": "85",
   "metadata": {},
   "source": [
    "Our loss is, as before, the average negative log-likelihood from these values:"
   ]
  },
  {
   "cell_type": "code",
   "execution_count": 150,
   "id": "86",
   "metadata": {},
   "outputs": [
    {
     "name": "stdout",
     "output_type": "stream",
     "text": [
      "3.4416897296905518\n"
     ]
    }
   ],
   "source": [
    "loss = -probs[torch.arange(len(probs)), ys].log().mean()\n",
    "print(loss.item())"
   ]
  },
  {
   "cell_type": "markdown",
   "id": "87",
   "metadata": {},
   "source": [
    "The training phase has two main steps: the forward and the backward pass.\n",
    "\n",
    "**Forward Pass**:\n",
    "we feed input data through the network to obtain predictions (in this case, the probabilities for the next character).\n",
    "We then compute a loss value, which measures how far off the network’s predictions are from the actual answers.\n",
    "Here, the loss is the average negative log likelihood of the correct next character across all inputs.\n",
    "\n",
    "**Backward Pass**:\n",
    "The backward pass is where learning happens.\n",
    "Using the computed loss, PyTorch automatically calculates how much each parameter (the weights in `W`) contributed to the error.\n",
    "This is done via a process called **backpropagation**, which computes the gradients.\n",
    "That is, it calculates the direction and amount by which each weight should be adjusted to reduce the loss."
   ]
  },
  {
   "cell_type": "markdown",
   "id": "88",
   "metadata": {},
   "source": [
    "We can instruct PyTorch to track all the operations we perform on tensors by setting `requires_grad=True`.\n",
    "This is done by calling `W.requires_grad_(True)`.\n",
    "This is a common pattern in PyTorch: we create a tensor, set `requires_grad=True`, and then perform operations on it."
   ]
  },
  {
   "cell_type": "markdown",
   "id": "89",
   "metadata": {},
   "source": [
    "So, in summary:\n",
    "\n",
    "- Including the loss calculation in the forward pass gives us a measure of the network’s performance for each batch.\n",
    "- Calling `.backward()` on the loss triggers PyTorch to compute gradients for all parameters with `requires_grad=True`.\n",
    "- These gradients indicate how to adjust the weights to reduce the loss.\n",
    "- Updating the weights using the gradients should improve the model’s predictions in the next iteration.\n",
    "\n",
    "This is the core of the training loop."
   ]
  },
  {
   "cell_type": "markdown",
   "id": "90",
   "metadata": {},
   "source": [
    "### Putting it all together"
   ]
  },
  {
   "cell_type": "markdown",
   "id": "91",
   "metadata": {},
   "source": [
    "Let's summarize all the steps and put it all together."
   ]
  },
  {
   "cell_type": "markdown",
   "id": "92",
   "metadata": {},
   "source": [
    "#### Preparing data\n",
    "\n",
    "We break down text (a sequence of strings) into sequences of adjacent characters, called n-grams.\n",
    "Here, we're creating \"bigrams\" (pairs of consecutive characters) from our dataset.\n",
    "\n",
    "For each word in our input data:\n",
    "1. We add special start and end markers (`.`)\n",
    "2. We create pairs of adjacent characters\n",
    "3. We convert each character to its numerical index using our mapping\n",
    "\n",
    "This gives us input-output pairs `(x, y)` where:\n",
    "- `x` is the index of the current character\n",
    "- `y` is the index of the next character\n",
    "\n",
    "These pairs become our training examples."
   ]
  },
  {
   "cell_type": "code",
   "execution_count": 161,
   "id": "93",
   "metadata": {},
   "outputs": [
    {
     "name": "stdout",
     "output_type": "stream",
     "text": [
      "Number of training examples: 228146\n"
     ]
    }
   ],
   "source": [
    "# Create training set of all bigrams from words\n",
    "xs, ys = [], []\n",
    "\n",
    "# Process each word to extract bigrams\n",
    "for w in words:\n",
    "    # Add start/end markers to each word\n",
    "    chars = ['.'] + list(w) + ['.']\n",
    "    \n",
    "    # Create pairs of adjacent characters\n",
    "    for ch1, ch2 in zip(chars, chars[1:]):\n",
    "        # Convert characters to their indices\n",
    "        idx1 = stoi[ch1]  # Current character index\n",
    "        idx2 = stoi[ch2]  # Next character index\n",
    "        \n",
    "        # Add to our training examples\n",
    "        xs.append(idx1)\n",
    "        ys.append(idx2)\n",
    "\n",
    "# Convert lists to PyTorch tensors\n",
    "xs = torch.tensor(xs)\n",
    "ys = torch.tensor(ys)\n",
    "\n",
    "# Print dataset size\n",
    "print(f'Number of training examples: {xs.nelement()}')"
   ]
  },
  {
   "cell_type": "markdown",
   "id": "94",
   "metadata": {},
   "source": [
    "#### Initializing the neural network\n",
    "\n",
    "Our model is a simple, single-layer, no-bias neural network represented by a weight matrix `W`.\n",
    "\n",
    "- The weight matrix has dimensions $27 \\times 27$ (input size × output size)\n",
    "- Each column represents the weights for predicting one of the 27 possible next characters\n",
    "- We set `requires_grad=True` to enable automatic gradient computation during training (this is essential for backpropagation)"
   ]
  },
  {
   "cell_type": "markdown",
   "id": "95",
   "metadata": {},
   "source": [
    "At this step, we can optionally tell PyTorch to use a GPU if available."
   ]
  },
  {
   "cell_type": "code",
   "execution_count": 152,
   "id": "96",
   "metadata": {},
   "outputs": [
    {
     "name": "stdout",
     "output_type": "stream",
     "text": [
      "Using device: cpu\n"
     ]
    }
   ],
   "source": [
    "# Set the device (CPU or GPU if available)\n",
    "device = torch.device('cuda' if torch.cuda.is_available() else 'cpu')\n",
    "print(f\"Using device: {device}\")"
   ]
  },
  {
   "cell_type": "code",
   "execution_count": 153,
   "id": "97",
   "metadata": {},
   "outputs": [],
   "source": [
    "# Initialize the neural network's weight matrix\n",
    "g = torch.Generator(device=device).manual_seed(2147483647)  # Fixed seed for reproducibility\n",
    "\n",
    "# Create weight matrix (27×27) with trainable parameters\n",
    "W = torch.randn((27, 27), device=device, generator=g, requires_grad=True)"
   ]
  },
  {
   "cell_type": "markdown",
   "id": "98",
   "metadata": {},
   "source": [
    "#### Training the neural network\n",
    "\n",
    "We now train our model using gradient descent.\n",
    "For each training epoch, we:\n",
    "\n",
    "1. **Forward Pass:** Feed the input data through the network to get predictions\n",
    "   - Convert inputs to one-hot encoding\n",
    "   - Compute logits by matrix multiplication with weights\n",
    "   - Apply softmax to get probability distributions\n",
    "   - Calculate the loss (negative log likelihood)\n",
    "\n",
    "2. **Backward Pass:** Compute gradients of the loss with respect to weights\n",
    "   - Reset existing gradients\n",
    "   - Backpropagate the loss\n",
    "\n",
    "3. **Update Weights:** Adjust weights to reduce the loss\n",
    "   - Simple gradient descent: `W = W - learning_rate * gradient`\n",
    "\n",
    "The loss should decrease with each epoch, indicating the model is learning."
   ]
  },
  {
   "cell_type": "code",
   "execution_count": 158,
   "id": "99",
   "metadata": {},
   "outputs": [
    {
     "name": "stdout",
     "output_type": "stream",
     "text": [
      "Loss @ epoch 25: 2.1159\n",
      "Loss @ epoch 50: 1.8892\n",
      "Loss @ epoch 75: 2.1053\n",
      "Loss @ epoch 100: 1.8992\n",
      "Loss @ epoch 125: 2.0957\n",
      "Loss @ epoch 150: 1.9083\n",
      "Loss @ epoch 175: 2.0871\n",
      "Loss @ epoch 200: 1.9165\n",
      "Loss @ epoch 225: 0.2835\n",
      "Loss @ epoch 250: 0.2803\n",
      "Loss @ epoch 275: 0.2793\n",
      "Loss @ epoch 300: 0.2788\n",
      "Loss @ epoch 325: 0.2785\n",
      "Loss @ epoch 350: 0.2783\n",
      "Loss @ epoch 375: 0.2781\n",
      "Loss @ epoch 400: 0.2780\n",
      "Loss @ epoch 425: 0.2779\n",
      "Loss @ epoch 450: 0.2779\n",
      "Loss @ epoch 475: 0.2778\n",
      "Loss @ epoch 500: 0.2778\n"
     ]
    }
   ],
   "source": [
    "# Training for 200 epochs\n",
    "for epoch in range(500):\n",
    "    # ----- Forward Pass -----\n",
    "    # Convert input indices to one-hot vectors\n",
    "    xenc = F.one_hot(xs, num_classes=27).float().to(device)\n",
    "    \n",
    "    # Compute raw outputs (logits)\n",
    "    logits = xenc @ W\n",
    "    \n",
    "    # Apply softmax: first exponentiate\n",
    "    counts = logits.exp()\n",
    "    \n",
    "    # Then normalize to get probabilities\n",
    "    probs = counts / counts.sum(1, keepdims=True)\n",
    "    \n",
    "    # Calculate negative log likelihood loss\n",
    "    loss = -probs[torch.arange(len(probs)), ys].log().mean()\n",
    "    \n",
    "    # Print progress\n",
    "    if (epoch + 1) % 25 == 0:\n",
    "        print(f'Loss @ epoch {epoch+1}: {loss.item():.4f}')\n",
    "    \n",
    "    # ----- Backward Pass -----\n",
    "    # Reset gradients\n",
    "    W.grad = None\n",
    "    \n",
    "    # Compute gradients\n",
    "    loss.backward()\n",
    "    # calling the gradient on this loss value forces pytorch to calculate the change gradient of the loss on each parameter which requires it\n",
    "    \n",
    "    # ----- Update Weights -----\n",
    "    if epoch <= 200:\n",
    "        lr = 50\n",
    "    else:\n",
    "        lr = 10\n",
    "    W.data -= lr * W.grad"
   ]
  },
  {
   "cell_type": "markdown",
   "id": "dd97c9aa-973e-488d-ba57-6396daa76020",
   "metadata": {},
   "source": [
    "#### Testing the trained neural network"
   ]
  },
  {
   "cell_type": "code",
   "execution_count": 165,
   "id": "92cf77c6-4b9e-4d4b-abd4-56acbdfbd11c",
   "metadata": {},
   "outputs": [
    {
     "name": "stdout",
     "output_type": "stream",
     "text": [
      "\n",
      "-------\n",
      "Bigram 1: (\".\", \"e\") [indexes (0, 5)]\n",
      "  Input to neural net: 0 (\".\")\n",
      "  Output probabilities:\n",
      "tensor([7.3536e-11, 9.8418e-10, 2.0232e-09, 2.0617e-09, 2.0603e-09, 1.0000e+00,\n",
      "        1.1237e-09, 1.5416e-09, 1.7726e-09, 1.4296e-09, 1.8698e-09, 1.6319e-09,\n",
      "        2.0629e-09, 1.8225e-09, 1.9616e-09, 1.0769e-09, 1.3060e-09, 3.0070e-10,\n",
      "        2.0627e-09, 1.9949e-09, 2.0238e-09, 2.6250e-10, 1.0392e-09, 8.8534e-10,\n",
      "        4.2889e-10, 1.3399e-09, 1.8206e-09], grad_fn=<SelectBackward0>)\n",
      "  Most likely next character: e (index 5, probability 1.0000, log likelihood -0.0000)\n",
      "  Actual next character (label): e (index 5)\n",
      "  Probability assigned to correct character: 1.0000\n",
      "  Log likelihood: 0.0000\n",
      "  Negative log likelihood: -0.0000\n",
      "\n",
      "-------\n",
      "Bigram 2: (\"e\", \"m\") [indexes (5, 13)]\n",
      "  Input to neural net: 5 (\"e\")\n",
      "  Output probabilities:\n",
      "tensor([4.5886e-10, 1.9874e-09, 6.0936e-10, 7.4726e-10, 1.4996e-09, 2.0841e-09,\n",
      "        4.2863e-10, 6.2721e-10, 7.4244e-10, 2.0898e-09, 3.1381e-10, 8.4875e-10,\n",
      "        7.6854e-10, 1.0000e+00, 1.1093e-09, 1.1750e-09, 4.3767e-10, 1.2789e-10,\n",
      "        1.6385e-09, 2.1090e-09, 1.8702e-09, 3.7410e-10, 1.6739e-09, 2.5487e-10,\n",
      "        6.5695e-10, 2.1360e-09, 8.6065e-10], grad_fn=<SelectBackward0>)\n",
      "  Most likely next character: m (index 13, probability 1.0000, log likelihood -0.0000)\n",
      "  Actual next character (label): m (index 13)\n",
      "  Probability assigned to correct character: 1.0000\n",
      "  Log likelihood: 0.0000\n",
      "  Negative log likelihood: -0.0000\n",
      "\n",
      "-------\n",
      "Bigram 3: (\"m\", \"m\") [indexes (13, 13)]\n",
      "  Input to neural net: 13 (\"m\")\n",
      "  Output probabilities:\n",
      "tensor([1.4675e-07, 5.2496e-01, 3.4094e-07, 2.0566e-07, 1.3555e-07, 3.7916e-08,\n",
      "        6.9976e-08, 6.7203e-08, 9.2584e-08, 4.1749e-09, 5.4970e-08, 8.1649e-08,\n",
      "        6.4739e-08, 4.7504e-01, 1.0129e-07, 1.8865e-07, 1.7340e-07, 5.4014e-08,\n",
      "        3.1865e-07, 1.1250e-07, 7.2005e-08, 3.6538e-07, 6.1233e-08, 6.7682e-08,\n",
      "        8.1924e-08, 3.2069e-07, 7.6226e-08], grad_fn=<SelectBackward0>)\n",
      "  Most likely next character: a (index 1, probability 0.5250, log likelihood 0.6444)\n",
      "  Actual next character (label): m (index 13)\n",
      "  Probability assigned to correct character: 0.4750\n",
      "  Log likelihood: -0.7444\n",
      "  Negative log likelihood: 0.7444\n",
      "\n",
      "-------\n",
      "Bigram 4: (\"m\", \"a\") [indexes (13, 1)]\n",
      "  Input to neural net: 13 (\"m\")\n",
      "  Output probabilities:\n",
      "tensor([1.4675e-07, 5.2496e-01, 3.4094e-07, 2.0566e-07, 1.3555e-07, 3.7916e-08,\n",
      "        6.9976e-08, 6.7203e-08, 9.2584e-08, 4.1749e-09, 5.4970e-08, 8.1649e-08,\n",
      "        6.4739e-08, 4.7504e-01, 1.0129e-07, 1.8865e-07, 1.7340e-07, 5.4014e-08,\n",
      "        3.1865e-07, 1.1250e-07, 7.2005e-08, 3.6538e-07, 6.1233e-08, 6.7682e-08,\n",
      "        8.1924e-08, 3.2069e-07, 7.6226e-08], grad_fn=<SelectBackward0>)\n",
      "  Most likely next character: a (index 1, probability 0.5250, log likelihood 0.6444)\n",
      "  Actual next character (label): a (index 1)\n",
      "  Probability assigned to correct character: 0.5250\n",
      "  Log likelihood: -0.6444\n",
      "  Negative log likelihood: 0.6444\n",
      "\n",
      "-------\n",
      "Bigram 5: (\"a\", \".\") [indexes (1, 0)]\n",
      "  Input to neural net: 1 (\"a\")\n",
      "  Output probabilities:\n",
      "tensor([1.0000e+00, 6.2571e-09, 6.1423e-09, 5.5642e-09, 8.8035e-09, 7.1875e-09,\n",
      "        1.9321e-09, 2.3733e-09, 9.2022e-09, 9.7374e-09, 2.4627e-09, 6.3471e-09,\n",
      "        8.8859e-09, 9.7345e-09, 3.4315e-09, 9.8536e-10, 1.2369e-09, 9.3431e-10,\n",
      "        7.4307e-09, 9.0313e-09, 7.1566e-09, 4.7531e-09, 7.9661e-09, 2.2840e-09,\n",
      "        2.5508e-09, 9.5542e-09, 5.2571e-09], grad_fn=<SelectBackward0>)\n",
      "  Most likely next character: . (index 0, probability 1.0000, log likelihood -0.0000)\n",
      "  Actual next character (label): . (index 0)\n",
      "  Probability assigned to correct character: 1.0000\n",
      "  Log likelihood: 0.0000\n",
      "  Negative log likelihood: -0.0000\n",
      "\n",
      "============\n",
      "Average negative log likelihood (loss): 0.0000\n",
      "Old value: 3.4417\n"
     ]
    }
   ],
   "source": [
    "# Reminder: xs is a tensor containing the indexes of **all** the characters\n",
    "# We take the first 5 characters to form the bigrams\n",
    "xt = xs[:5]\n",
    "yt = ys[:5]\n",
    "\n",
    "# Initialize tensor to store negative log likelihoods (NLL) for each bigram\n",
    "nlls = torch.zeros(len(xs))  # There are 5 bigrams in '.emma.'\n",
    "\n",
    "# Loop through each bigram in the sequence\n",
    "for i in range(len(xt)):\n",
    "    x = xt[i].item()  # Input character index\n",
    "    y = yt[i].item()  # Target (next) character index\n",
    "\n",
    "    print(\"\\n-------\")\n",
    "    print(f'Bigram {i+1}: (\"{itos[x]}\", \"{itos[y]}\") [indexes ({x}, {y})]')\n",
    "    print(f'  Input to neural net: {x} (\"{itos[x]}\")')\n",
    "    print(f'  Output probabilities:\\n{probs[i]}') # probabilities for the next character according to the single, randomly initialized neuron are saved in the vector 'probs' and called here\n",
    "    \n",
    "    # Most likely next character according to the model\n",
    "    predicted_index = probs[i].argmax().item()\n",
    "    predicted_char = itos[predicted_index]\n",
    "    predicted_prob = probs[i].max().item()\n",
    "    print(f'  Most likely next character: {predicted_char} (index {predicted_index}, probability {predicted_prob:.4f}, log likelihood {-np.log(predicted_prob):.4f})')\n",
    "    \n",
    "    print(f'  Actual next character (label): {itos[y]} (index {y})')\n",
    "    \n",
    "    # Probability assigned to the correct character\n",
    "    p = probs[i, y]\n",
    "    print(f'  Probability assigned to correct character: {p.item():.4f}')\n",
    "    \n",
    "    # Log likelihood and negative log likelihood (of correct character)\n",
    "    logp = torch.log(p)\n",
    "    nll = -logp\n",
    "    print(f'  Log likelihood: {logp.item():.4f}')\n",
    "    print(f'  Negative log likelihood: {nll.item():.4f}')\n",
    "    \n",
    "    # Store NLL for this bigram\n",
    "    nlls[i] = nll\n",
    "\n",
    "print('\\n============')\n",
    "print(f'Average negative log likelihood (loss): {nlls.mean().item():.4f}')\n",
    "print(f'Old value: {nlls_old.mean().item():.4f}')"
   ]
  },
  {
   "cell_type": "markdown",
   "id": "100",
   "metadata": {},
   "source": [
    "#### Comparison with a Bigram frequency model\n",
    "\n",
    "Our trained neural network achieves a loss of around 2.46, which is nearly identical to the explicit bigram count approach (loss of 2.45).\n",
    "This similarity isn't surprising—our simple neural network is essentially learning to mimic the count-to-distribution relationship of the bigram model.\n",
    "\n",
    "**The key difference is in flexibility and scalability.**\n",
    "\n",
    "The core workflow of the neural network will remain consistent as we build more complex models:\n",
    "\n",
    "1. Initialize weights\n",
    "2. Calculate activations \n",
    "3. Convert to probabilities\n",
    "4. Optimize weights based on loss\n",
    "\n",
    "While our current neural network doesn't outperform the simpler bigram approach, its architecture allows for natural extension to more complex patterns.\n",
    "As we add layers and consider longer sequences of characters, the neural network framework will scale elegantly.\n",
    "\n",
    "Consider the fundamental scaling challenge: with a bigram model looking at just the previous character, we need to store $27^2 = 729$ probabilities (one for each possible character pairs).\n",
    "If we wanted to consider the previous 10 characters to make better predictions:\n",
    "\n",
    "- A traditional n-gram approach would require storing $27^{10} \\approx 205$ trillion different probability values—completely impractical in terms of memory and impossible to train with limited data.\n",
    "\n",
    "- In contrast, a neural network can learn to **compress this information efficiently**.\n",
    "By adding more neurons and layers, we can capture complex patterns without an exponential explosion in parameters.\n",
    "A network might need only thousands or millions of parameters to effectively model these dependencies, not trillions.\n",
    "\n",
    "This is why neural networks excel at language modeling tasks where context beyond just the previous character is crucial.\n",
    "\n",
    "> **Conclusion:** \n",
    ">\n",
    ">The bigram approach quickly hits scaling limitations, while neural networks excel precisely where the bigram model fails."
   ]
  },
  {
   "cell_type": "markdown",
   "id": "101",
   "metadata": {},
   "source": [
    "#### Smoothing applied to a neural network"
   ]
  },
  {
   "cell_type": "markdown",
   "id": "102",
   "metadata": {},
   "source": [
    "Remember that with the Bigram Model we used a smoothing technique to avoid zero probabilities.\n",
    "This was basically adding a small constant to all counts (`+1` in our case).\n",
    "The bigger this constant, the more smoothed the distribution will be.\n",
    "\n",
    "This is a simple example of a **regularization** technique, which can also be applied to our neural network approach.\n"
   ]
  },
  {
   "cell_type": "markdown",
   "id": "103",
   "metadata": {},
   "source": [
    "How can we do this for a neural network?\n",
    "\n",
    "1. We add a penalty term to the loss function based on the weights\n",
    "2. This penalty pushes weights toward zero\n",
    "3. Smaller weights result in smoother, more uniform output distributions\n",
    "4. The strength of regularization is controlled by a tunable **hyperparameter**\n",
    "\n",
    "> **Note:** an hyperparameter is a parameter that is not learned from the data, but is set by the user.\n",
    "\n",
    "Think of regularization as a gentle force pulling weights toward zero.\n",
    "Without it, the model might learn to perfectly match the training data but fail to generalize.\n",
    "With regularization, we sacrifice some training accuracy for better generalization.\n",
    "\n",
    "Here we will use **L2 regularization** (also called weight decay), which adds the mean of squared weights to the loss function."
   ]
  },
  {
   "cell_type": "code",
   "execution_count": 166,
   "id": "104",
   "metadata": {},
   "outputs": [
    {
     "name": "stdout",
     "output_type": "stream",
     "text": [
      "Regularization term (L2 norm of weights):\n",
      "4.136141\n"
     ]
    }
   ],
   "source": [
    "# Calculate regularization term (mean of squared weights)\n",
    "# This will be added to the loss function to penalize large weights\n",
    "print(\"Regularization term (L2 norm of weights):\")\n",
    "reg_term = (W**2).mean().item()\n",
    "print(f\"{reg_term:.6f}\")"
   ]
  },
  {
   "cell_type": "code",
   "execution_count": 172,
   "id": "105",
   "metadata": {},
   "outputs": [
    {
     "name": "stdout",
     "output_type": "stream",
     "text": [
      "Loss @ epoch 25: 3.0922\n",
      "Loss @ epoch 50: 2.9604\n",
      "Loss @ epoch 75: 2.8735\n",
      "Loss @ epoch 100: 2.6046\n",
      "Loss @ epoch 125: 2.9479\n",
      "Loss @ epoch 150: 2.7536\n",
      "Loss @ epoch 175: 2.8286\n",
      "Loss @ epoch 200: 2.8257\n",
      "Loss @ epoch 225: 2.7206\n",
      "Loss @ epoch 250: 2.5074\n",
      "Loss @ epoch 275: 2.4808\n",
      "Loss @ epoch 300: 2.4806\n",
      "Loss @ epoch 325: 2.4805\n",
      "Loss @ epoch 350: 2.4805\n",
      "Loss @ epoch 375: 2.4804\n",
      "Loss @ epoch 400: 2.4804\n",
      "Loss @ epoch 425: 2.4804\n",
      "Loss @ epoch 450: 2.4804\n",
      "Loss @ epoch 475: 2.4804\n",
      "Loss @ epoch 500: 2.4804\n"
     ]
    }
   ],
   "source": [
    "# Training for 200 epochs with regularization\n",
    "lambda_reg = 0.01  # Regularization strength\n",
    "\n",
    "for epoch in range(500):\n",
    "    # ----- Forward Pass -----\n",
    "    # Convert input indices to one-hot vectors\n",
    "    xenc = F.one_hot(xs, num_classes=27).float().to(device)\n",
    "    \n",
    "    # Compute raw outputs (logits)\n",
    "    logits = xenc @ W\n",
    "    \n",
    "    # Apply softmax: first exponentiate\n",
    "    counts = logits.exp()\n",
    "    \n",
    "    # Then normalize to get probabilities\n",
    "    probs = counts / counts.sum(1, keepdims=True)\n",
    "    \n",
    "    # Calculate negative log likelihood loss + regularization term\n",
    "    # Main loss: how well we predict the next character\n",
    "    nll_loss = -probs[torch.arange(len(probs)), ys].log().mean()\n",
    "    # Regularization loss: penalty for large weights\n",
    "    reg_loss = lambda_reg * (W**2).mean()\n",
    "    # Combined loss\n",
    "    loss = nll_loss + reg_loss\n",
    "\n",
    "    if (epoch + 1) % 25 == 0:\n",
    "        print(f'Loss @ epoch {epoch+1}: {loss.item():.4f}')\n",
    "    \n",
    "    # ----- Backward Pass -----\n",
    "    # Reset gradients\n",
    "    W.grad = None\n",
    "    \n",
    "    # Compute gradients (including regularization effect)\n",
    "    loss.backward()\n",
    "    \n",
    "    # ----- Update Weights -----\n",
    "    if epoch <= 200:\n",
    "        lr = 200\n",
    "    else:\n",
    "        lr = 10\n",
    "    W.data -= lr * W.grad"
   ]
  },
  {
   "cell_type": "markdown",
   "id": "106",
   "metadata": {},
   "source": [
    "#### Sampling from our trained model\n",
    "\n",
    "After training, we can use our model to generate new character sequences.\n",
    "\n",
    "For each position:\n",
    "1. We start with the \".\" character (index 0)\n",
    "2. The model predicts probabilities for the next character\n",
    "3. We sample from this probability distribution\n",
    "4. We continue until we generate another \".\" (end marker)\n",
    "\n",
    "This process is similar to what we did with the bigram model, but now using our neural network for predictions.\n",
    "\n",
    "Incidentally, this is the same process that drives the generation of text by large language models like ChatGPT, although we are nowhere near the sophistication of ChatGPT."
   ]
  },
  {
   "cell_type": "code",
   "execution_count": 176,
   "id": "107",
   "metadata": {},
   "outputs": [
    {
     "name": "stdout",
     "output_type": "stream",
     "text": [
      "Generated names:\n",
      "1. pyniada\n",
      "2. dafaliononnhwtige\n",
      "3. a\n",
      "4. torilya\n",
      "5. dawylamoin\n"
     ]
    }
   ],
   "source": [
    "# Sample new names from the trained model\n",
    "# g = torch.Generator(device=device).manual_seed(2147483642)  # Fixed seed for reproducibility\n",
    "g = torch.Generator(device=device).manual_seed(3107882632)\n",
    "\n",
    "print(\"Generated names:\")\n",
    "for i in range(5):\n",
    "    out = []\n",
    "    ix = 0  # Start with '.' character (index 0)\n",
    "    \n",
    "    while True:\n",
    "        # ----- Generate next character -----\n",
    "        # Convert current character index to one-hot encoding\n",
    "        xenc = F.one_hot(torch.tensor([ix]), num_classes=27).float().to(device)\n",
    "        \n",
    "        # Forward pass through the model\n",
    "        logits = xenc @ W  # Get logits (raw output scores)\n",
    "        counts = logits.exp()  # Convert to positive values\n",
    "        p = counts / counts.sum(1, keepdims=True)  # Normalize to probabilities\n",
    "        \n",
    "        # Sample from the probability distribution\n",
    "        ix = torch.multinomial(p, num_samples=1, replacement=True, generator=g).item()\n",
    "        \n",
    "        # Stop when we generate an end marker\n",
    "        if ix == 0:\n",
    "            break\n",
    "        else:\n",
    "            # Add the sampled character to our output\n",
    "            out.append(itos[ix])\n",
    "            \n",
    "    print(f\"{i+1}. {''.join(out)}\")"
   ]
  },
  {
   "cell_type": "markdown",
   "id": "108",
   "metadata": {},
   "source": [
    "### Conclusion\n",
    "\n",
    "We've successfully implemented a neural network that performs on par with the bigram model approach.\n",
    "While both achieve similar results at this stage, they differ fundamentally in their approach:\n",
    "\n",
    "- The bigram model explicitly counts and stores character transitions\n",
    "- Our neural network learns weights that implicitly represent these same patterns\n",
    "\n",
    "Looking at our generated names `(\"ryoei\", \"telon\", \"e\", \"mfoman\", \"ylx\")`, we can see that the results are still quite rudimentary.\n",
    "Some names are implausibly short, while others contain unusual character combinations that don't appear in natural language.\n",
    "\n",
    "**Why?** Our simple neural network is still limited by the same constraints as the bigram model: it only looks at the previous character when predicting the next one.\n",
    "This means it can't really capture longer patterns or dependencies in the data.\n",
    "\n",
    "The exciting part is that this is just the beginning.\n",
    "Unlike the bigram model, our neural network architecture is highly extensible:\n",
    "\n",
    "1. We can add more layers to create deeper representations\n",
    "2. We can modify the network to consider multiple previous characters\n",
    "3. We can increase the number of neurons to capture more complex patterns\n",
    "\n",
    "In the following parts, we'll explore these extensions, gradually building toward more sophisticated architectures like transformers, the foundation of modern language models."
   ]
  },
  {
   "cell_type": "markdown",
   "id": "109",
   "metadata": {},
   "source": [
    "## Exercises\n",
    "\n",
    "In this section, there are a few *proposed* exercises on going a step further than what we did.\n",
    "These exercises are **just suggestions** that will challenge what we learned.\n",
    "\n",
    "If you don't quite know where to start, that's fine: there's a lot to digest in this notebook, so feel free to come back once you're comfortable with the material shown above.\n",
    "\n",
    "You can find some *proposed* solutions in the [companion notebook](./extra/32_language_modeling_1_solutions.ipynb)."
   ]
  },
  {
   "cell_type": "markdown",
   "id": "110",
   "metadata": {},
   "source": [
    "### 1. Build a Trigram model\n",
    "\n",
    "Train a trigram language model, i.e. a model that takes **two** characters as an input to predict the 3rd one.\n",
    "Feel free to use either counting or a neural net.\n",
    "Evaluate the loss.\n",
    "\n",
    "1. Did it improve over a bigram model?\n",
    "2. If yes, how much did it improve?"
   ]
  },
  {
   "cell_type": "markdown",
   "id": "38851d69-202e-403f-b0a4-e633b07c08c5",
   "metadata": {},
   "source": [
    "#### Data preprocessing, encoding/decoding and probability calculation"
   ]
  },
  {
   "cell_type": "code",
   "execution_count": 223,
   "id": "111",
   "metadata": {},
   "outputs": [
    {
     "name": "stdout",
     "output_type": "stream",
     "text": [
      "['.', 'e'] m\n",
      "['e', 'm'] m\n",
      "['m', 'm'] a\n",
      "['m', 'a'] .\n",
      "\n",
      "['.', 'a', 'b', 'c', 'd', 'e', 'f', 'g', 'h', 'i', 'j', 'k', 'l', 'm', 'n', 'o', 'p', 'q', 'r', 's', 't', 'u', 'v', 'w', 'x', 'y', 'z']\n",
      "[('.', '.'), ('a', 'w'), ('c', 's'), ('e', 'o'), ('g', 'k'), ('i', 'g'), ('k', 'c'), ('l', 'z'), ('n', 'v'), ('p', 'r'), ('r', 'n'), ('t', 'j'), ('v', 'f'), ('x', 'b'), ('y', 'y')]\n",
      "\n",
      "{'.': 0, 'a': 1, 'b': 2, 'c': 3, 'd': 4, 'e': 5, 'f': 6, 'g': 7, 'h': 8, 'i': 9, 'j': 10, 'k': 11, 'l': 12, 'm': 13, 'n': 14, 'o': 15, 'p': 16, 'q': 17, 'r': 18, 's': 19, 't': 20, 'u': 21, 'v': 22, 'w': 23, 'x': 24, 'y': 25, 'z': 26}\n",
      "\n",
      "{0: '.', 1: 'a', 2: 'b', 3: 'c', 4: 'd', 5: 'e', 6: 'f', 7: 'g', 8: 'h', 9: 'i', 10: 'j', 11: 'k', 12: 'l', 13: 'm', 14: 'n', 15: 'o', 16: 'p', 17: 'q', 18: 'r', 19: 's', 20: 't', 21: 'u', 22: 'v', 23: 'w', 24: 'x', 25: 'y', 26: 'z'}\n",
      "\n",
      "tensor([[  1,   1,   1,  ...,   1,   1,   1],\n",
      "        [  1, 208, 191,  ...,  28, 174, 153],\n",
      "        [  1, 170,   1,  ...,   1,   5,   1],\n",
      "        ...,\n",
      "        [  2,   1,   1,  ...,   1,   1,   1],\n",
      "        [ 35,  28,   1,  ...,   1,   1,   2],\n",
      "        [  5,  14,   1,  ...,   1,   8,   1]], dtype=torch.int32)\n"
     ]
    }
   ],
   "source": [
    "# Set training device\n",
    "device = torch.device('cuda' if torch.cuda.is_available() else 'cpu')\n",
    "\n",
    "# Load dataset\n",
    "words = open('data/lm/names.txt', 'r').read().splitlines()\n",
    "g = torch.Generator(device=device).manual_seed(2147483647)\n",
    "\n",
    "chars = sorted(list(set(''.join(words))))\n",
    "stoi = {s:i+1 for i,s in enumerate(chars)}\n",
    "stoi['.'] = 0 # Special token has position zero\n",
    "itos = {i:s for s,i in stoi.items()}\n",
    "\n",
    "# TODO: Modify this to accomodate for trigrams\n",
    "for w in words[:1]:\n",
    "    chs = ['.'] + list(w) + ['.']\n",
    "    for *ch1, ch2 in zip(chs, chs[1:], chs[2:]):\n",
    "        print(ch1, ch2)\n",
    "print('')\n",
    "\n",
    "# TODO: Implement a Trigram model\n",
    "chars = sorted(set(''.join(words)))\n",
    "chars = ['.'] + chars\n",
    "digs = [(char1, char2) for char1 in chars for char2 in chars]\n",
    "print(chars)\n",
    "print(digs[::50])\n",
    "print('')\n",
    "\n",
    "# conversion from/to integer - outlet\n",
    "stoi_out = {s:i for i, s in enumerate(chars)}\n",
    "print(stoi_out)\n",
    "print('')\n",
    "itos_out = {i:s for s, i in stoi_out.items()}\n",
    "print(itos_out)\n",
    "print('')\n",
    "\n",
    "# conversion from/to integer - inlet\n",
    "stoi_in = {s:i for i, s in enumerate(digs)}\n",
    "itos_in = {i:s for s, i in stoi_in.items()}\n",
    "\n",
    "# probabilities\n",
    "import torch\n",
    "N = torch.zeros((27**2, 27), dtype=torch.int32)\n",
    "for w in words:\n",
    "    chs = ['.'] + list(w) + ['.']\n",
    "    for *ch1, ch2 in zip(chs, chs[1:], chs[2:]):\n",
    "        i = stoi_in[tuple(ch1)]\n",
    "        j = stoi_out[ch2]\n",
    "        N[i, j] += 1\n",
    "N += 1 # regularization\n",
    "print(N)"
   ]
  },
  {
   "cell_type": "markdown",
   "id": "2a779c89-a32a-44bb-8da1-78986ce4f687",
   "metadata": {},
   "source": [
    "#### Training set generation"
   ]
  },
  {
   "cell_type": "code",
   "execution_count": 231,
   "id": "2a0843ec-cf48-4d1b-99bd-de50ad12b538",
   "metadata": {},
   "outputs": [
    {
     "name": "stdout",
     "output_type": "stream",
     "text": [
      "tensor([  5, 148, 364,  ..., 727, 701, 726]) tensor([13, 13,  1,  ..., 26, 24,  0])\n",
      "\n",
      "For bigram #0 \"('.', 'e')\" in xs, we expect the model to predict \"m\"\n",
      "For bigram #1 \"('e', 'm')\" in xs, we expect the model to predict \"m\"\n",
      "For bigram #2 \"('m', 'm')\" in xs, we expect the model to predict \"a\"\n",
      "For bigram #3 \"('m', 'a')\" in xs, we expect the model to predict \".\"\n"
     ]
    }
   ],
   "source": [
    "# create training set of all trigrams\n",
    "xs, ys = [], [] # Input and output character indices\n",
    "for w in words:\n",
    "    chs = ['.'] + list(w) + ['.']\n",
    "    for *ch1, ch2 in zip(chs, chs[1:], chs[2:]):\n",
    "        ix1 = stoi_in[tuple(ch1)]\n",
    "        ix2 = stoi_out[ch2]\n",
    "        xs.append(ix1)\n",
    "        ys.append(ix2)\n",
    "\n",
    "# Convert lists to tensors\n",
    "xs = torch.tensor(xs)\n",
    "ys = torch.tensor(ys)\n",
    "print(xs, ys)\n",
    "print('')\n",
    "for i in range(4):\n",
    "    print(f'For bigram #{i} \"{itos_in[xs[i].item()]}\" in xs, we expect the model to predict \"{itos_out[ys[i].item()]}\"')"
   ]
  },
  {
   "cell_type": "markdown",
   "id": "87421bfe-1d6f-4f68-aa6e-e343b060901d",
   "metadata": {},
   "source": [
    "#### One-hot encoding"
   ]
  },
  {
   "cell_type": "code",
   "execution_count": 246,
   "id": "d4c1508e-1533-448c-94ba-c40145a6754d",
   "metadata": {},
   "outputs": [
    {
     "name": "stdout",
     "output_type": "stream",
     "text": [
      "tensor([[0., 0., 0.,  ..., 0., 0., 0.],\n",
      "        [0., 0., 0.,  ..., 0., 0., 0.],\n",
      "        [0., 0., 0.,  ..., 0., 0., 0.],\n",
      "        ...,\n",
      "        [0., 0., 0.,  ..., 0., 1., 0.],\n",
      "        [0., 0., 0.,  ..., 0., 0., 0.],\n",
      "        [0., 0., 0.,  ..., 1., 0., 0.]]) torch.Size([196113, 729])\n"
     ]
    }
   ],
   "source": [
    "import torch.nn.functional as F\n",
    "xenc = F.one_hot(xs, num_classes=27**2).float()\n",
    "print(xenc, xenc.shape)"
   ]
  },
  {
   "cell_type": "markdown",
   "id": "2ee851aa-895a-449f-b0fb-2276e487d786",
   "metadata": {},
   "source": [
    "#### Regaining a normal distribution"
   ]
  },
  {
   "cell_type": "code",
   "execution_count": 272,
   "id": "9deccc31-8a88-4a60-a985-0498f5625027",
   "metadata": {},
   "outputs": [
    {
     "name": "stdout",
     "output_type": "stream",
     "text": [
      "tensor([[ 0.4724,  1.4830,  0.3175,  ..., -0.4275, -2.1259,  0.9604],\n",
      "        [ 0.1275,  1.7862,  0.9084,  ..., -0.0410,  0.4848, -0.9423],\n",
      "        [ 1.2348,  0.4025, -0.7739,  ..., -1.8022,  1.4378, -0.5998],\n",
      "        ...,\n",
      "        [ 0.5146, -1.0181, -1.2665,  ..., -1.0288,  0.5508, -1.0114],\n",
      "        [-0.9299,  0.3116,  1.3902,  ...,  2.1475,  1.6333,  1.9126],\n",
      "        [-0.5997,  0.4037, -0.3309,  ..., -0.5076, -2.0352, -0.1582]]) torch.Size([196113, 27])\n",
      "\n",
      "torch.Size([196113, 27])\n",
      "tensor([1.0000, 1.0000, 1.0000,  ..., 1.0000, 1.0000, 1.0000]) torch.Size([196113])\n"
     ]
    }
   ],
   "source": [
    "g = torch.Generator().manual_seed(2147483647)\n",
    "W = torch.randn((27**2, 27), generator=g)\n",
    "a = xenc @ W\n",
    "print(a, a.shape)\n",
    "print('')\n",
    "logits = xenc @ W\n",
    "counts = logits.exp()\n",
    "probs = counts / counts.sum(1, keepdims=True)\n",
    "print(probs.shape)\n",
    "print(probs.sum(1), probs.sum(1).shape)"
   ]
  },
  {
   "cell_type": "markdown",
   "id": "ff7ed089-8a83-4546-9448-f50aabd973c7",
   "metadata": {},
   "source": [
    "#### Example prediction _before_ training"
   ]
  },
  {
   "cell_type": "code",
   "execution_count": 273,
   "id": "0202d64e-ea66-4575-8d3a-a83b5ac2fe76",
   "metadata": {},
   "outputs": [
    {
     "name": "stdout",
     "output_type": "stream",
     "text": [
      "\n",
      "Trigram 1: (\".\", \"e\", \"m\") [indexes (5, 13)]\n",
      "  Input to neural net: 5 -> ('.', 'e')\n",
      "  Output probabilities:\n",
      "tensor([0.0290, 0.0796, 0.0248, 0.0521, 0.1989, 0.0289, 0.0094, 0.0335, 0.0097,\n",
      "        0.0301, 0.0702, 0.0228, 0.0115, 0.0181, 0.0108, 0.0315, 0.0291, 0.0045,\n",
      "        0.0916, 0.0215, 0.0486, 0.0300, 0.0501, 0.0027, 0.0118, 0.0022, 0.0472])\n",
      "  Most likely next character: d (index 4, probability 0.1989, log likelihood 1.6151)\n",
      "  Actual next character (label): m (index 13)\n",
      "  Probability assigned to correct character: 0.0181\n",
      "  Log likelihood: -4.0146\n",
      "  Negative log likelihood: 4.0146\n",
      "\n",
      "Trigram 2: (\"e\", \"m\", \"m\") [indexes (148, 13)]\n",
      "  Input to neural net: 148 -> ('e', 'm')\n",
      "  Output probabilities:\n",
      "tensor([0.0225, 0.1182, 0.0491, 0.0079, 0.0210, 0.0090, 0.0082, 0.0792, 0.0857,\n",
      "        0.0670, 0.0166, 0.0229, 0.0127, 0.0082, 0.1269, 0.0384, 0.0237, 0.0041,\n",
      "        0.0257, 0.0761, 0.0642, 0.0330, 0.0047, 0.0161, 0.0190, 0.0322, 0.0077])\n",
      "  Most likely next character: n (index 14, probability 0.1269, log likelihood 2.0642)\n",
      "  Actual next character (label): m (index 13)\n",
      "  Probability assigned to correct character: 0.0082\n",
      "  Log likelihood: -4.8070\n",
      "  Negative log likelihood: 4.8070\n",
      "\n",
      "Trigram 3: (\"m\", \"m\", \"a\") [indexes (364, 1)]\n",
      "  Input to neural net: 364 -> ('m', 'm')\n",
      "  Output probabilities:\n",
      "tensor([0.0749, 0.0326, 0.0100, 0.0488, 0.0360, 0.0102, 0.0430, 0.0246, 0.0238,\n",
      "        0.0511, 0.0037, 0.0019, 0.0767, 0.0118, 0.0222, 0.0137, 0.0130, 0.0087,\n",
      "        0.0104, 0.0319, 0.0474, 0.0094, 0.0037, 0.2830, 0.0036, 0.0918, 0.0120])\n",
      "  Most likely next character: w (index 23, probability 0.2830, log likelihood 1.2622)\n",
      "  Actual next character (label): a (index 1)\n",
      "  Probability assigned to correct character: 0.0326\n",
      "  Log likelihood: -3.4239\n",
      "  Negative log likelihood: 3.4239\n",
      "\n",
      "Trigram 4: (\"m\", \"a\", \".\") [indexes (352, 0)]\n",
      "  Input to neural net: 352 -> ('m', 'a')\n",
      "  Output probabilities:\n",
      "tensor([0.0108, 0.0381, 0.0228, 0.0631, 0.0425, 0.0151, 0.0231, 0.0194, 0.0038,\n",
      "        0.0091, 0.0537, 0.1120, 0.0369, 0.0126, 0.0208, 0.0180, 0.0141, 0.0290,\n",
      "        0.2448, 0.0187, 0.0165, 0.0254, 0.0155, 0.0227, 0.0569, 0.0238, 0.0307])\n",
      "  Most likely next character: r (index 18, probability 0.2448, log likelihood 1.4074)\n",
      "  Actual next character (label): . (index 0)\n",
      "  Probability assigned to correct character: 0.0108\n",
      "  Log likelihood: -4.5251\n",
      "  Negative log likelihood: 4.5251\n",
      "\n",
      "Average negative log likelihood (loss): 4.1926\n"
     ]
    }
   ],
   "source": [
    "import numpy as np\n",
    "\n",
    "xt = xs[:4]\n",
    "yt = ys[:4]\n",
    "\n",
    "# Initialize tensor to store negative log likelihoods (NLL) for each trigram\n",
    "nlls_pre_train = torch.zeros(len(xt))\n",
    "\n",
    "# Loop through each trigram in the sequence\n",
    "for i in range(len(xt)):\n",
    "    x = xt[i].item()  # Input bigram index\n",
    "    y = yt[i].item()  # Target (next) character index\n",
    "\n",
    "    print('')\n",
    "    print(f'Trigram {i+1}: (\"{itos_in[x][0]}\", \"{itos_in[x][1]}\", \"{itos_out[y]}\") [indexes ({x}, {y})]')\n",
    "    print(f'  Input to neural net: {x} -> {itos_in[x]}')\n",
    "    print(f'  Output probabilities:\\n{probs[i]}') # probabilities for the next character according to the single, randomly initialized neuron are saved in the vector 'probs' and called here\n",
    "    \n",
    "    # Most likely next character according to the model\n",
    "    predicted_index = probs[i].argmax().item()\n",
    "    predicted_char = itos_out[predicted_index]\n",
    "    predicted_prob = probs[i].max().item()\n",
    "    print(f'  Most likely next character: {predicted_char} (index {predicted_index}, probability {predicted_prob:.4f}, log likelihood {-np.log(predicted_prob):.4f})')\n",
    "    \n",
    "    print(f'  Actual next character (label): {itos_out[y]} (index {y})')\n",
    "    \n",
    "    # Probability assigned to the correct character\n",
    "    p = probs[i, y]\n",
    "    print(f'  Probability assigned to correct character: {p.item():.4f}')\n",
    "    \n",
    "    # Log likelihood and negative log likelihood (of correct character)\n",
    "    logp = torch.log(p)\n",
    "    nll = -logp\n",
    "    print(f'  Log likelihood: {logp.item():.4f}')\n",
    "    print(f'  Negative log likelihood: {nll.item():.4f}')\n",
    "    \n",
    "    # Store NLL for this bigram\n",
    "    nlls_pre_train[i] = nll\n",
    "\n",
    "print('')\n",
    "print(f'Average negative log likelihood (loss): {nlls_old.mean().item():.4f}')"
   ]
  },
  {
   "cell_type": "markdown",
   "id": "f90012d3-638d-476c-a62a-deceb339acc4",
   "metadata": {},
   "source": [
    "#### Data preparation"
   ]
  },
  {
   "cell_type": "code",
   "execution_count": 274,
   "id": "c4d59e48-37e4-48f4-b2f7-060f3ce66537",
   "metadata": {},
   "outputs": [
    {
     "name": "stdout",
     "output_type": "stream",
     "text": [
      "Number of training examples: 196113\n"
     ]
    }
   ],
   "source": [
    "# Create training set of all trigrams from words\n",
    "xs, ys = [], []\n",
    "\n",
    "# Process each word to extract trigrams\n",
    "for w in words:\n",
    "    # Add start/end markers to each word\n",
    "    chars = ['.'] + list(w) + ['.']\n",
    "    \n",
    "    # Create pairs of adjacent characters\n",
    "    for *ch1, ch2 in zip(chars, chars[1:], chars[2:]):\n",
    "        # Convert characters to their indices\n",
    "        idx1 = stoi_in[tuple(ch1)]  # Current character index\n",
    "        idx2 = stoi_out[ch2]  # Next character index\n",
    "        \n",
    "        # Add to our training examples\n",
    "        xs.append(idx1)\n",
    "        ys.append(idx2)\n",
    "\n",
    "# Convert lists to PyTorch tensors\n",
    "xs = torch.tensor(xs)\n",
    "ys = torch.tensor(ys)\n",
    "\n",
    "# Print dataset size\n",
    "print(f'Number of training examples: {xs.nelement()}')"
   ]
  },
  {
   "cell_type": "markdown",
   "id": "33381d0f-7b34-460a-867d-d230a26c08e8",
   "metadata": {},
   "source": [
    "#### Neural network initialization"
   ]
  },
  {
   "cell_type": "code",
   "execution_count": 275,
   "id": "7485ec31-5c02-4aea-8924-4dff45b6850d",
   "metadata": {},
   "outputs": [
    {
     "name": "stdout",
     "output_type": "stream",
     "text": [
      "Using device: cpu\n",
      "tensor([[ 1.5674, -0.2373, -0.0274,  ..., -0.0707,  2.4968,  2.4448],\n",
      "        [-0.6701, -1.2199,  0.3031,  ...,  0.8032,  0.5411, -1.1646],\n",
      "        [ 0.1476, -1.0006,  0.3801,  ..., -0.6279,  0.0770, -1.1641],\n",
      "        ...,\n",
      "        [-0.5997,  0.4037, -0.3309,  ..., -0.5076, -2.0352, -0.1582],\n",
      "        [ 0.5146, -1.0181, -1.2665,  ..., -1.0288,  0.5508, -1.0114],\n",
      "        [ 0.0944,  0.0396,  0.5633,  ...,  1.2524, -0.1760,  1.4172]],\n",
      "       requires_grad=True) torch.Size([729, 27])\n"
     ]
    }
   ],
   "source": [
    "# Set the device (CPU or GPU if available)\n",
    "device = torch.device('cuda' if torch.cuda.is_available() else 'cpu')\n",
    "print(f\"Using device: {device}\")\n",
    "\n",
    "# Initialize the neural network's weight matrix\n",
    "g = torch.Generator(device=device).manual_seed(2147483647)  # Fixed seed for reproducibility"
   ]
  },
  {
   "cell_type": "markdown",
   "id": "81a8d812-4e52-4e6e-9176-e033452a134a",
   "metadata": {},
   "source": [
    "#### Training"
   ]
  },
  {
   "cell_type": "code",
   "execution_count": 277,
   "id": "32365db6-82cf-4b85-8a77-55bb70acbddc",
   "metadata": {},
   "outputs": [
    {
     "name": "stdout",
     "output_type": "stream",
     "text": [
      "tensor([[ 1.5674, -0.2373, -0.0274,  ..., -0.0707,  2.4968,  2.4448],\n",
      "        [-2.2460,  0.7490,  0.6622,  ..., -1.2146,  0.5670,  0.4352],\n",
      "        [-0.6630,  2.8591, -0.5664,  ..., -1.0819, -0.4866, -1.4538],\n",
      "        ...,\n",
      "        [-0.5340,  0.4016, -0.3318,  ..., -0.5084, -2.0354, -0.1594],\n",
      "        [ 1.5404,  0.4498, -1.3693,  ..., -1.1574,  0.0400, -1.0798],\n",
      "        [ 0.2870,  0.8086,  0.4625,  ...,  1.0607,  0.2269,  1.1947]],\n",
      "       requires_grad=True) torch.Size([729, 27])\n",
      "Loss @ epoch 10: 2.2323\n",
      "Loss @ epoch 20: 2.2277\n",
      "Loss @ epoch 30: 2.2234\n",
      "Loss @ epoch 40: 2.2194\n",
      "Loss @ epoch 50: 2.2155\n",
      "Loss @ epoch 60: 2.2119\n",
      "Loss @ epoch 70: 2.2085\n",
      "Loss @ epoch 80: 2.2052\n",
      "Loss @ epoch 90: 2.2022\n",
      "Loss @ epoch 100: 2.1992\n",
      "Loss @ epoch 110: 2.1964\n",
      "Loss @ epoch 120: 2.1938\n",
      "Loss @ epoch 130: 2.1912\n",
      "Loss @ epoch 140: 2.1888\n",
      "Loss @ epoch 150: 2.1865\n",
      "Loss @ epoch 160: 2.1843\n",
      "Loss @ epoch 170: 2.1821\n",
      "Loss @ epoch 180: 2.1801\n",
      "Loss @ epoch 190: 2.1782\n",
      "Loss @ epoch 200: 2.1763\n",
      "Loss @ epoch 210: 2.1756\n",
      "Loss @ epoch 220: 2.1753\n",
      "Loss @ epoch 230: 2.1749\n",
      "Loss @ epoch 240: 2.1746\n",
      "Loss @ epoch 250: 2.1742\n",
      "Loss @ epoch 260: 2.1739\n",
      "Loss @ epoch 270: 2.1735\n",
      "Loss @ epoch 280: 2.1732\n",
      "Loss @ epoch 290: 2.1728\n",
      "Loss @ epoch 300: 2.1725\n",
      "Loss @ epoch 310: 2.1722\n",
      "Loss @ epoch 320: 2.1718\n",
      "Loss @ epoch 330: 2.1715\n",
      "Loss @ epoch 340: 2.1712\n",
      "Loss @ epoch 350: 2.1708\n",
      "Loss @ epoch 360: 2.1705\n",
      "Loss @ epoch 370: 2.1702\n",
      "Loss @ epoch 380: 2.1699\n",
      "Loss @ epoch 390: 2.1696\n",
      "Loss @ epoch 400: 2.1692\n",
      "Loss @ epoch 410: 2.1689\n",
      "Loss @ epoch 420: 2.1686\n",
      "Loss @ epoch 430: 2.1683\n",
      "Loss @ epoch 440: 2.1680\n",
      "Loss @ epoch 450: 2.1677\n",
      "Loss @ epoch 460: 2.1674\n",
      "Loss @ epoch 470: 2.1671\n",
      "Loss @ epoch 480: 2.1668\n",
      "Loss @ epoch 490: 2.1665\n",
      "Loss @ epoch 500: 2.1662\n"
     ]
    }
   ],
   "source": [
    "# reinitialize weights if needed\n",
    "# W = torch.randn((27**2, 27), device=device, generator=g, requires_grad=True)\n",
    "print(W, W.shape)\n",
    "\n",
    "# weight decay\n",
    "wd = 1e-2\n",
    "\n",
    "for epoch in range(500):\n",
    "    # ----- Forward Pass -----\n",
    "    # Convert input indices to one-hot vectors\n",
    "    xenc = F.one_hot(xs, num_classes=27**2).float().to(device)\n",
    "    \n",
    "    # Compute raw outputs (logits)\n",
    "    logits = xenc @ W\n",
    "    \n",
    "    # Apply softmax: first exponentiate\n",
    "    counts = logits.exp()\n",
    "    \n",
    "    # Then normalize to get probabilities\n",
    "    probs = counts / counts.sum(1, keepdims=True)\n",
    "\n",
    "    # Main loss: how well we predict the next character\n",
    "    nll_loss = -probs[torch.arange(len(probs)), ys].log().mean()\n",
    "    # Regularization loss: penalty for large weights\n",
    "    reg_loss = wd * (W**2).mean()\n",
    "    # Combined loss\n",
    "    loss = nll_loss + reg_loss\n",
    "    \n",
    "    # Print progress\n",
    "    if (epoch + 1) % 10 == 0:\n",
    "        print(f'Loss @ epoch {epoch+1}: {loss.item():.4f}')\n",
    "    \n",
    "    # ----- Backward Pass -----\n",
    "    W.grad = None\n",
    "    \n",
    "    # Compute gradients\n",
    "    loss.backward()\n",
    "    # calling the gradient on this loss value forces pytorch to calculate the change gradient of the loss on each parameter which requires it\n",
    "    \n",
    "    # Update Weights\n",
    "    if epoch <= 200:\n",
    "        lr = 50\n",
    "    else:\n",
    "        lr = 10\n",
    "    W.data -= lr * W.grad"
   ]
  },
  {
   "cell_type": "markdown",
   "id": "112",
   "metadata": {},
   "source": [
    "### 2. Split the dataset\n",
    "\n",
    "Split the dataset randomly into $80\\%$ `train` set, $10\\%$ `dev` set, $10\\%$ `test` set.\n",
    "Train the bigram (and/or trigram) model **only** on the `train` set.\n",
    "Evaluate them on `dev` and `test` sets. \n",
    "\n",
    "What can you see?\n",
    "\n",
    "**Hint:** Have a look at [`torch.randperm`](https://docs.pytorch.org/docs/main/generated/torch.randperm.html)."
   ]
  },
  {
   "cell_type": "code",
   "execution_count": null,
   "id": "113",
   "metadata": {},
   "outputs": [],
   "source": [
    "g = torch.Generator(device=device).manual_seed(2147483647)"
   ]
  },
  {
   "cell_type": "markdown",
   "id": "114",
   "metadata": {},
   "source": [
    "#### Bigram model baseline\n",
    "\n",
    "Let's see first what happens when we train the Bigram model on a fraction of the data, then evaluate the model on the `dev` and `test` sets."
   ]
  },
  {
   "cell_type": "code",
   "execution_count": null,
   "id": "115",
   "metadata": {},
   "outputs": [],
   "source": [
    "# Create set of all *bigrams*\n",
    "xs, ys = [], []\n",
    "\n",
    "for w in words:\n",
    "    chs = ['.'] + list(w) + ['.']\n",
    "    for ch1, ch2 in zip(chs, chs[1:]):\n",
    "        xs.append(stoi[ch1])\n",
    "        ys.append(stoi[ch2])\n",
    "\n",
    "xs, ys = torch.tensor(xs), torch.tensor(ys) # [196113], [196113]\n",
    "num_x, num_y = xs.nelement(), ys.nelement()\n",
    "\n",
    "# TODO: Shuffle/Permute the dataset, keeping pairs in sync\n",
    "# TODO: Split the dataset into 80:10:10 for train:valid:test\n",
    "xs_bi_train, xs_bi_valid, xs_bi_test = None, None, None\n",
    "ys_bi_train, ys_bi_valid, ys_bi_test = None, None, None"
   ]
  },
  {
   "cell_type": "markdown",
   "id": "116",
   "metadata": {},
   "source": [
    "#### Compare the Bigram and Trigram model\n",
    "\n",
    "If you have worked out the Trigram model, you should probably compare the two to see if there's any improvement."
   ]
  },
  {
   "cell_type": "code",
   "execution_count": null,
   "id": "117",
   "metadata": {
    "lines_to_next_cell": 2
   },
   "outputs": [],
   "source": [
    "# TODO: Create set of all *trigrams*\n",
    "xs, ys = [], []\n",
    "\n",
    "# TODO: Shuffle/Permute the dataset, keeping (x,y) pairs in sync\n",
    "# TODO: Split the dataset into 80:10:10 for train:valid:test\n",
    "xs_tri_train, xs_tri_valid, xs_tri_test = None, None, None\n",
    "ys_tri_train, ys_tri_valid, ys_tri_test = None, None, None"
   ]
  },
  {
   "cell_type": "code",
   "execution_count": null,
   "id": "118",
   "metadata": {},
   "outputs": [],
   "source": [
    "# TODO: Implement and train a trigram model"
   ]
  },
  {
   "cell_type": "code",
   "execution_count": null,
   "id": "119",
   "metadata": {},
   "outputs": [],
   "source": [
    "# TODO: Evaluate the trigram model on the validation and test sets"
   ]
  },
  {
   "cell_type": "markdown",
   "id": "120",
   "metadata": {},
   "source": [
    "### 3. Change the loss function\n",
    "\n",
    "Instead of using the negative log-likelihood, look up and use `F.cross_entropy` instead.\n",
    "You should achieve the same result.\n",
    "Can you think of why we'd prefer to use `F.cross_entropy` instead?\n",
    "\n",
    "Here's the [documentation on `F.cross_entropy`](https://pytorch.org/docs/stable/generated/torch.nn.functional.cross_entropy.html)."
   ]
  }
 ],
 "metadata": {
  "jupytext": {
   "formats": "ipynb,py:percent"
  },
  "kernelspec": {
   "display_name": "Python 3 (ipykernel)",
   "language": "python",
   "name": "python3"
  },
  "language_info": {
   "codemirror_mode": {
    "name": "ipython",
    "version": 3
   },
   "file_extension": ".py",
   "mimetype": "text/x-python",
   "name": "python",
   "nbconvert_exporter": "python",
   "pygments_lexer": "ipython3",
   "version": "3.10.17"
  }
 },
 "nbformat": 4,
 "nbformat_minor": 5
}
